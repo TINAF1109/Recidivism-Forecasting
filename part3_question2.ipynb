{
 "cells": [
  {
   "cell_type": "markdown",
   "id": "33daa994",
   "metadata": {
    "slideshow": {
     "slide_type": "skip"
    }
   },
   "source": [
    "# 95-791 Data Mining (Fall 2021) - Final Project, Part 3\n",
    "### Name: Jamie Lim, Thomas Tam, Tina Feng"
   ]
  },
  {
   "cell_type": "markdown",
   "id": "c4ef3bbe",
   "metadata": {
    "slideshow": {
     "slide_type": "slide"
    }
   },
   "source": [
    "# Question 2: \n",
    "If an individual is classified as a potential recidivist, in which year* is he/she likely to recidivate and what features are associated with the difference in arrest years?\n",
    "\n"
   ]
  },
  {
   "cell_type": "markdown",
   "id": "e49455cc",
   "metadata": {
    "slideshow": {
     "slide_type": "fragment"
    }
   },
   "source": [
    "For this task, we are only look at a subset of the cleaned dataset: people who recidivated within 3 years (`Recidivism_Within_3years == 1`). We construct a new `Year` variable as our target by encoding `Recidivism_Arrest_Year1`,`Recidivism_Arrest_Year2`,`Recidivism_Arrest_Year3` to a categorical variable with 3 classes (1,2,3). We use the rest variables excluding `Recidivism_Within_3years`,`Recidivism_Arrest_Year1`,`Recidivism_Arrest_Year2`, and `Recidivism_Arrest_Year3` as features. \n",
    "\n",
    "Question 2 is a follow-up for Question 1：if an individual is classified as recidivist by the best model from Q1, we would like to predict in which year* the recidivism arrest is likely to occur, and what features are associated with the difference in arrest years. "
   ]
  },
  {
   "cell_type": "markdown",
   "id": "a718de98",
   "metadata": {
    "slideshow": {
     "slide_type": "subslide"
    }
   },
   "source": [
    "This question can be answered with classification models and feature importance. Here we will explore four classification models as follows:\n",
    "1. K-Nearest Neighbors\n",
    "    - Suitable for classification tasks\n",
    "    - Simple & intuitive\n",
    "    - Inherently multiclass\n",
    "2. Naive Bayes Classifier\n",
    "    - Suitable for classification tasks\n",
    "    - Efficient and not biased by outliers\n",
    "    - Inherently multiclass\n",
    "3. Random Forest \n",
    "    - Powerful and accurate\n",
    "    - Support multiclass-multioutput\n",
    "4. Gradient Boosting\n",
    "    - Enables a more complex ensemble\n",
    "    - Support multiclass-multioutput \n",
    "    \n",
    "    \n",
    "**Year 1 if the recidivism arrest occurred in year 1 after the parole supervision starte date, year 2 if it occurred in year 2, and year 3 if it occurred in year 3.*"
   ]
  },
  {
   "cell_type": "code",
   "execution_count": 1,
   "id": "379e0728",
   "metadata": {
    "slideshow": {
     "slide_type": "skip"
    }
   },
   "outputs": [],
   "source": [
    "# import needed libraries and packages\n",
    "import numpy as np\n",
    "import pandas as pd\n",
    "import seaborn as sns\n",
    "from matplotlib import pyplot as plt\n",
    "\n",
    "from sklearn.metrics import confusion_matrix, ConfusionMatrixDisplay, classification_report\n",
    "from sklearn.model_selection import train_test_split,cross_val_score, GridSearchCV\n",
    "from sklearn import metrics, preprocessing\n",
    "from sklearn.neighbors import KNeighborsClassifier\n",
    "from sklearn.naive_bayes import GaussianNB\n",
    "from sklearn.ensemble import RandomForestClassifier, GradientBoostingClassifier\n",
    "from imblearn.over_sampling import RandomOverSampler \n",
    "from sklearn.metrics import roc_auc_score\n",
    "\n",
    "\n",
    "%matplotlib inline\n",
    "plt.style.use('seaborn-white')"
   ]
  },
  {
   "cell_type": "markdown",
   "id": "2ff8cdef",
   "metadata": {
    "slideshow": {
     "slide_type": "slide"
    }
   },
   "source": [
    "## 1. Encoding Target Variable"
   ]
  },
  {
   "cell_type": "code",
   "execution_count": 2,
   "id": "a27a62a8",
   "metadata": {
    "slideshow": {
     "slide_type": "skip"
    }
   },
   "outputs": [],
   "source": [
    "# read csv file\n",
    "df_cleaned = pd.read_csv('df_cleaned.csv')\n",
    "# filter so we only look at recidivists\n",
    "df_cleaned_r = df_cleaned[df_cleaned['Recidivism_Within_3years']==1].copy()"
   ]
  },
  {
   "cell_type": "code",
   "execution_count": 3,
   "id": "2a9a948b",
   "metadata": {
    "slideshow": {
     "slide_type": "fragment"
    }
   },
   "outputs": [
    {
     "name": "stdout",
     "output_type": "stream",
     "text": [
      "Cases in Arrest Year 1: 7086, 51.64%\n",
      "Cases in Arrest Year 2: 4212, 30.70%\n",
      "Cases in Arrest Year 3: 2424, 17.67%\n"
     ]
    }
   ],
   "source": [
    "# check if three classes are balanced\n",
    "n_year1 = len(df_cleaned_r[df_cleaned_r['Recidivism_Arrest_Year1']==1])\n",
    "n_year2 = len(df_cleaned_r[df_cleaned_r['Recidivism_Arrest_Year2']==1])\n",
    "n_year3 = len(df_cleaned_r[df_cleaned_r['Recidivism_Arrest_Year3']==1])\n",
    "n_total = len(df_cleaned_r)\n",
    "\n",
    "print(f'Cases in Arrest Year 1: {n_year1}, {n_year1 / n_total * 100:.2f}%')\n",
    "print(f'Cases in Arrest Year 2: {n_year2}, {n_year2 / n_total * 100:.2f}%')\n",
    "print(f'Cases in Arrest Year 3: {n_year3}, {n_year3 / n_total * 100:.2f}%')"
   ]
  },
  {
   "cell_type": "markdown",
   "id": "97976183",
   "metadata": {
    "slideshow": {
     "slide_type": "skip"
    }
   },
   "source": [
    "**Comment:** \n",
    "\n",
    "Since the three classes we will be using to construct our target variable are not well balanced, we will need to use bootstrapping for oversampling"
   ]
  },
  {
   "cell_type": "code",
   "execution_count": 4,
   "id": "678dd17f",
   "metadata": {
    "slideshow": {
     "slide_type": "skip"
    }
   },
   "outputs": [],
   "source": [
    "# construct target variable\n",
    "# by encoding the three dummy year-variables to one categorical variable with 3 classes: 1, 2, 3  \n",
    "year = []\n",
    "for i in range(len(df_cleaned_r)):\n",
    "    if df_cleaned_r.iloc[i]['Recidivism_Arrest_Year1'] == 1:\n",
    "        year.append(1)\n",
    "    elif df_cleaned_r.iloc[i]['Recidivism_Arrest_Year2'] == 1:\n",
    "        year.append(2)\n",
    "    elif df_cleaned_r.iloc[i]['Recidivism_Arrest_Year3'] == 1:\n",
    "        year.append(3)\n",
    "        "
   ]
  },
  {
   "cell_type": "code",
   "execution_count": 5,
   "id": "f7bc1612",
   "metadata": {
    "slideshow": {
     "slide_type": "skip"
    }
   },
   "outputs": [],
   "source": [
    "# add the target variable column to dataframe\n",
    "df_cleaned_r['Year']=year"
   ]
  },
  {
   "cell_type": "code",
   "execution_count": 6,
   "id": "27983085",
   "metadata": {
    "slideshow": {
     "slide_type": "skip"
    }
   },
   "outputs": [],
   "source": [
    "# drop unneeded columns\n",
    "df_cleaned_r = df_cleaned_r.drop(columns = ['Recidivism_Within_3years','Recidivism_Arrest_Year1',\n",
    "                             'Recidivism_Arrest_Year2','Recidivism_Arrest_Year3'])"
   ]
  },
  {
   "cell_type": "code",
   "execution_count": 7,
   "id": "725ba827",
   "metadata": {
    "slideshow": {
     "slide_type": "skip"
    }
   },
   "outputs": [
    {
     "data": {
      "text/html": [
       "<div>\n",
       "<style scoped>\n",
       "    .dataframe tbody tr th:only-of-type {\n",
       "        vertical-align: middle;\n",
       "    }\n",
       "\n",
       "    .dataframe tbody tr th {\n",
       "        vertical-align: top;\n",
       "    }\n",
       "\n",
       "    .dataframe thead th {\n",
       "        text-align: right;\n",
       "    }\n",
       "</style>\n",
       "<table border=\"1\" class=\"dataframe\">\n",
       "  <thead>\n",
       "    <tr style=\"text-align: right;\">\n",
       "      <th></th>\n",
       "      <th>Gender</th>\n",
       "      <th>Race</th>\n",
       "      <th>Age_at_Release</th>\n",
       "      <th>Gang_Affiliated</th>\n",
       "      <th>Supervision_Risk_Score_First</th>\n",
       "      <th>Education_Level</th>\n",
       "      <th>Dependents</th>\n",
       "      <th>Prison_Years</th>\n",
       "      <th>Prior_Arrest_Episodes_Felony</th>\n",
       "      <th>Prior_Arrest_Episodes_Misd</th>\n",
       "      <th>...</th>\n",
       "      <th>Percent_Days_Employed</th>\n",
       "      <th>Jobs_Per_Year</th>\n",
       "      <th>Employment_Exempt</th>\n",
       "      <th>Supervision_Level_First_High</th>\n",
       "      <th>Supervision_Level_First_Standard</th>\n",
       "      <th>Prison_Offense_Drug</th>\n",
       "      <th>Prison_Offense_Property</th>\n",
       "      <th>Prison_Offense_Violent/Non-Sex</th>\n",
       "      <th>Prison_Offense_Violent/Sex</th>\n",
       "      <th>Year</th>\n",
       "    </tr>\n",
       "  </thead>\n",
       "  <tbody>\n",
       "    <tr>\n",
       "      <th>1</th>\n",
       "      <td>1.0</td>\n",
       "      <td>0.0</td>\n",
       "      <td>3.0</td>\n",
       "      <td>0.0</td>\n",
       "      <td>5.0</td>\n",
       "      <td>0.0</td>\n",
       "      <td>1.0</td>\n",
       "      <td>3.0</td>\n",
       "      <td>8.0</td>\n",
       "      <td>6.0</td>\n",
       "      <td>...</td>\n",
       "      <td>0.425234</td>\n",
       "      <td>2.000000</td>\n",
       "      <td>0.0</td>\n",
       "      <td>0.0</td>\n",
       "      <td>0.0</td>\n",
       "      <td>0.0</td>\n",
       "      <td>0.0</td>\n",
       "      <td>1.0</td>\n",
       "      <td>0.0</td>\n",
       "      <td>3</td>\n",
       "    </tr>\n",
       "    <tr>\n",
       "      <th>2</th>\n",
       "      <td>1.0</td>\n",
       "      <td>0.0</td>\n",
       "      <td>6.0</td>\n",
       "      <td>0.0</td>\n",
       "      <td>6.0</td>\n",
       "      <td>2.0</td>\n",
       "      <td>3.0</td>\n",
       "      <td>1.0</td>\n",
       "      <td>7.0</td>\n",
       "      <td>6.0</td>\n",
       "      <td>...</td>\n",
       "      <td>0.000000</td>\n",
       "      <td>0.000000</td>\n",
       "      <td>0.0</td>\n",
       "      <td>1.0</td>\n",
       "      <td>0.0</td>\n",
       "      <td>1.0</td>\n",
       "      <td>0.0</td>\n",
       "      <td>0.0</td>\n",
       "      <td>0.0</td>\n",
       "      <td>2</td>\n",
       "    </tr>\n",
       "    <tr>\n",
       "      <th>4</th>\n",
       "      <td>1.0</td>\n",
       "      <td>1.0</td>\n",
       "      <td>3.0</td>\n",
       "      <td>0.0</td>\n",
       "      <td>3.0</td>\n",
       "      <td>0.0</td>\n",
       "      <td>3.0</td>\n",
       "      <td>1.0</td>\n",
       "      <td>5.0</td>\n",
       "      <td>4.0</td>\n",
       "      <td>...</td>\n",
       "      <td>0.203562</td>\n",
       "      <td>0.929389</td>\n",
       "      <td>0.0</td>\n",
       "      <td>0.0</td>\n",
       "      <td>0.0</td>\n",
       "      <td>0.0</td>\n",
       "      <td>0.0</td>\n",
       "      <td>1.0</td>\n",
       "      <td>0.0</td>\n",
       "      <td>1</td>\n",
       "    </tr>\n",
       "    <tr>\n",
       "      <th>6</th>\n",
       "      <td>1.0</td>\n",
       "      <td>0.0</td>\n",
       "      <td>6.0</td>\n",
       "      <td>0.0</td>\n",
       "      <td>1.0</td>\n",
       "      <td>0.0</td>\n",
       "      <td>2.0</td>\n",
       "      <td>0.0</td>\n",
       "      <td>2.0</td>\n",
       "      <td>6.0</td>\n",
       "      <td>...</td>\n",
       "      <td>0.000000</td>\n",
       "      <td>0.000000</td>\n",
       "      <td>0.0</td>\n",
       "      <td>0.0</td>\n",
       "      <td>1.0</td>\n",
       "      <td>0.0</td>\n",
       "      <td>0.0</td>\n",
       "      <td>0.0</td>\n",
       "      <td>0.0</td>\n",
       "      <td>3</td>\n",
       "    </tr>\n",
       "    <tr>\n",
       "      <th>8</th>\n",
       "      <td>0.0</td>\n",
       "      <td>0.0</td>\n",
       "      <td>5.0</td>\n",
       "      <td>0.0</td>\n",
       "      <td>6.0</td>\n",
       "      <td>1.0</td>\n",
       "      <td>0.0</td>\n",
       "      <td>0.0</td>\n",
       "      <td>2.0</td>\n",
       "      <td>4.0</td>\n",
       "      <td>...</td>\n",
       "      <td>0.000000</td>\n",
       "      <td>0.000000</td>\n",
       "      <td>1.0</td>\n",
       "      <td>1.0</td>\n",
       "      <td>0.0</td>\n",
       "      <td>1.0</td>\n",
       "      <td>0.0</td>\n",
       "      <td>0.0</td>\n",
       "      <td>0.0</td>\n",
       "      <td>1</td>\n",
       "    </tr>\n",
       "    <tr>\n",
       "      <th>...</th>\n",
       "      <td>...</td>\n",
       "      <td>...</td>\n",
       "      <td>...</td>\n",
       "      <td>...</td>\n",
       "      <td>...</td>\n",
       "      <td>...</td>\n",
       "      <td>...</td>\n",
       "      <td>...</td>\n",
       "      <td>...</td>\n",
       "      <td>...</td>\n",
       "      <td>...</td>\n",
       "      <td>...</td>\n",
       "      <td>...</td>\n",
       "      <td>...</td>\n",
       "      <td>...</td>\n",
       "      <td>...</td>\n",
       "      <td>...</td>\n",
       "      <td>...</td>\n",
       "      <td>...</td>\n",
       "      <td>...</td>\n",
       "      <td>...</td>\n",
       "    </tr>\n",
       "    <tr>\n",
       "      <th>23155</th>\n",
       "      <td>1.0</td>\n",
       "      <td>1.0</td>\n",
       "      <td>5.0</td>\n",
       "      <td>0.0</td>\n",
       "      <td>4.0</td>\n",
       "      <td>2.0</td>\n",
       "      <td>3.0</td>\n",
       "      <td>3.0</td>\n",
       "      <td>0.0</td>\n",
       "      <td>0.0</td>\n",
       "      <td>...</td>\n",
       "      <td>0.000000</td>\n",
       "      <td>0.000000</td>\n",
       "      <td>1.0</td>\n",
       "      <td>0.0</td>\n",
       "      <td>1.0</td>\n",
       "      <td>0.0</td>\n",
       "      <td>0.0</td>\n",
       "      <td>0.0</td>\n",
       "      <td>0.0</td>\n",
       "      <td>2</td>\n",
       "    </tr>\n",
       "    <tr>\n",
       "      <th>23156</th>\n",
       "      <td>1.0</td>\n",
       "      <td>0.0</td>\n",
       "      <td>1.0</td>\n",
       "      <td>0.0</td>\n",
       "      <td>4.0</td>\n",
       "      <td>2.0</td>\n",
       "      <td>1.0</td>\n",
       "      <td>3.0</td>\n",
       "      <td>3.0</td>\n",
       "      <td>2.0</td>\n",
       "      <td>...</td>\n",
       "      <td>0.189507</td>\n",
       "      <td>0.572044</td>\n",
       "      <td>0.0</td>\n",
       "      <td>0.0</td>\n",
       "      <td>1.0</td>\n",
       "      <td>0.0</td>\n",
       "      <td>0.0</td>\n",
       "      <td>0.0</td>\n",
       "      <td>0.0</td>\n",
       "      <td>1</td>\n",
       "    </tr>\n",
       "    <tr>\n",
       "      <th>23157</th>\n",
       "      <td>1.0</td>\n",
       "      <td>1.0</td>\n",
       "      <td>4.0</td>\n",
       "      <td>0.0</td>\n",
       "      <td>4.0</td>\n",
       "      <td>2.0</td>\n",
       "      <td>3.0</td>\n",
       "      <td>3.0</td>\n",
       "      <td>0.0</td>\n",
       "      <td>2.0</td>\n",
       "      <td>...</td>\n",
       "      <td>0.757098</td>\n",
       "      <td>0.576104</td>\n",
       "      <td>0.0</td>\n",
       "      <td>0.0</td>\n",
       "      <td>1.0</td>\n",
       "      <td>0.0</td>\n",
       "      <td>0.0</td>\n",
       "      <td>0.0</td>\n",
       "      <td>0.0</td>\n",
       "      <td>2</td>\n",
       "    </tr>\n",
       "    <tr>\n",
       "      <th>23158</th>\n",
       "      <td>1.0</td>\n",
       "      <td>0.0</td>\n",
       "      <td>3.0</td>\n",
       "      <td>0.0</td>\n",
       "      <td>4.0</td>\n",
       "      <td>2.0</td>\n",
       "      <td>3.0</td>\n",
       "      <td>3.0</td>\n",
       "      <td>0.0</td>\n",
       "      <td>0.0</td>\n",
       "      <td>...</td>\n",
       "      <td>0.711138</td>\n",
       "      <td>0.894125</td>\n",
       "      <td>0.0</td>\n",
       "      <td>0.0</td>\n",
       "      <td>1.0</td>\n",
       "      <td>0.0</td>\n",
       "      <td>0.0</td>\n",
       "      <td>0.0</td>\n",
       "      <td>0.0</td>\n",
       "      <td>2</td>\n",
       "    </tr>\n",
       "    <tr>\n",
       "      <th>23160</th>\n",
       "      <td>1.0</td>\n",
       "      <td>1.0</td>\n",
       "      <td>2.0</td>\n",
       "      <td>0.0</td>\n",
       "      <td>4.0</td>\n",
       "      <td>1.0</td>\n",
       "      <td>3.0</td>\n",
       "      <td>3.0</td>\n",
       "      <td>7.0</td>\n",
       "      <td>6.0</td>\n",
       "      <td>...</td>\n",
       "      <td>0.124454</td>\n",
       "      <td>0.398745</td>\n",
       "      <td>0.0</td>\n",
       "      <td>0.0</td>\n",
       "      <td>1.0</td>\n",
       "      <td>0.0</td>\n",
       "      <td>0.0</td>\n",
       "      <td>0.0</td>\n",
       "      <td>0.0</td>\n",
       "      <td>1</td>\n",
       "    </tr>\n",
       "  </tbody>\n",
       "</table>\n",
       "<p>13722 rows × 51 columns</p>\n",
       "</div>"
      ],
      "text/plain": [
       "       Gender  Race  Age_at_Release  Gang_Affiliated  \\\n",
       "1         1.0   0.0             3.0              0.0   \n",
       "2         1.0   0.0             6.0              0.0   \n",
       "4         1.0   1.0             3.0              0.0   \n",
       "6         1.0   0.0             6.0              0.0   \n",
       "8         0.0   0.0             5.0              0.0   \n",
       "...       ...   ...             ...              ...   \n",
       "23155     1.0   1.0             5.0              0.0   \n",
       "23156     1.0   0.0             1.0              0.0   \n",
       "23157     1.0   1.0             4.0              0.0   \n",
       "23158     1.0   0.0             3.0              0.0   \n",
       "23160     1.0   1.0             2.0              0.0   \n",
       "\n",
       "       Supervision_Risk_Score_First  Education_Level  Dependents  \\\n",
       "1                               5.0              0.0         1.0   \n",
       "2                               6.0              2.0         3.0   \n",
       "4                               3.0              0.0         3.0   \n",
       "6                               1.0              0.0         2.0   \n",
       "8                               6.0              1.0         0.0   \n",
       "...                             ...              ...         ...   \n",
       "23155                           4.0              2.0         3.0   \n",
       "23156                           4.0              2.0         1.0   \n",
       "23157                           4.0              2.0         3.0   \n",
       "23158                           4.0              2.0         3.0   \n",
       "23160                           4.0              1.0         3.0   \n",
       "\n",
       "       Prison_Years  Prior_Arrest_Episodes_Felony  Prior_Arrest_Episodes_Misd  \\\n",
       "1               3.0                           8.0                         6.0   \n",
       "2               1.0                           7.0                         6.0   \n",
       "4               1.0                           5.0                         4.0   \n",
       "6               0.0                           2.0                         6.0   \n",
       "8               0.0                           2.0                         4.0   \n",
       "...             ...                           ...                         ...   \n",
       "23155           3.0                           0.0                         0.0   \n",
       "23156           3.0                           3.0                         2.0   \n",
       "23157           3.0                           0.0                         2.0   \n",
       "23158           3.0                           0.0                         0.0   \n",
       "23160           3.0                           7.0                         6.0   \n",
       "\n",
       "       ...  Percent_Days_Employed  Jobs_Per_Year  Employment_Exempt  \\\n",
       "1      ...               0.425234       2.000000                0.0   \n",
       "2      ...               0.000000       0.000000                0.0   \n",
       "4      ...               0.203562       0.929389                0.0   \n",
       "6      ...               0.000000       0.000000                0.0   \n",
       "8      ...               0.000000       0.000000                1.0   \n",
       "...    ...                    ...            ...                ...   \n",
       "23155  ...               0.000000       0.000000                1.0   \n",
       "23156  ...               0.189507       0.572044                0.0   \n",
       "23157  ...               0.757098       0.576104                0.0   \n",
       "23158  ...               0.711138       0.894125                0.0   \n",
       "23160  ...               0.124454       0.398745                0.0   \n",
       "\n",
       "       Supervision_Level_First_High  Supervision_Level_First_Standard  \\\n",
       "1                               0.0                               0.0   \n",
       "2                               1.0                               0.0   \n",
       "4                               0.0                               0.0   \n",
       "6                               0.0                               1.0   \n",
       "8                               1.0                               0.0   \n",
       "...                             ...                               ...   \n",
       "23155                           0.0                               1.0   \n",
       "23156                           0.0                               1.0   \n",
       "23157                           0.0                               1.0   \n",
       "23158                           0.0                               1.0   \n",
       "23160                           0.0                               1.0   \n",
       "\n",
       "       Prison_Offense_Drug  Prison_Offense_Property  \\\n",
       "1                      0.0                      0.0   \n",
       "2                      1.0                      0.0   \n",
       "4                      0.0                      0.0   \n",
       "6                      0.0                      0.0   \n",
       "8                      1.0                      0.0   \n",
       "...                    ...                      ...   \n",
       "23155                  0.0                      0.0   \n",
       "23156                  0.0                      0.0   \n",
       "23157                  0.0                      0.0   \n",
       "23158                  0.0                      0.0   \n",
       "23160                  0.0                      0.0   \n",
       "\n",
       "       Prison_Offense_Violent/Non-Sex  Prison_Offense_Violent/Sex  Year  \n",
       "1                                 1.0                         0.0     3  \n",
       "2                                 0.0                         0.0     2  \n",
       "4                                 1.0                         0.0     1  \n",
       "6                                 0.0                         0.0     3  \n",
       "8                                 0.0                         0.0     1  \n",
       "...                               ...                         ...   ...  \n",
       "23155                             0.0                         0.0     2  \n",
       "23156                             0.0                         0.0     1  \n",
       "23157                             0.0                         0.0     2  \n",
       "23158                             0.0                         0.0     2  \n",
       "23160                             0.0                         0.0     1  \n",
       "\n",
       "[13722 rows x 51 columns]"
      ]
     },
     "execution_count": 7,
     "metadata": {},
     "output_type": "execute_result"
    }
   ],
   "source": [
    "# take a look at the cleaned dataframe ready for use\n",
    "df_cleaned_r"
   ]
  },
  {
   "cell_type": "code",
   "execution_count": 8,
   "id": "3966a599",
   "metadata": {
    "slideshow": {
     "slide_type": "skip"
    }
   },
   "outputs": [],
   "source": [
    "# get X and y\n",
    "X = df_cleaned_r.drop(['Year'], axis=1)\n",
    "y = df_cleaned_r['Year']"
   ]
  },
  {
   "cell_type": "code",
   "execution_count": 9,
   "id": "03c5c71e",
   "metadata": {
    "slideshow": {
     "slide_type": "fragment"
    }
   },
   "outputs": [
    {
     "name": "stdout",
     "output_type": "stream",
     "text": [
      "After oversampling:\n",
      "Cases in Arrest Year 1: 7086, 33.33%\n",
      "Cases in Arrest Year 2: 7086, 33.33%\n",
      "Cases in Arrest Year 3: 7086, 33.33%\n"
     ]
    }
   ],
   "source": [
    "# do oversampling to address the issue of unbalanced classes\n",
    "ros = RandomOverSampler(random_state=0)\n",
    "X_res, y_res = ros.fit_resample(X, y)\n",
    "\n",
    "# check if classes are balanced after oversampling\n",
    "# yes, they are!\n",
    "print('After oversampling:')\n",
    "print(f'Cases in Arrest Year 1: {sum(y_res==1)}, {sum(y_res==1) / len(y_res)*100:.2f}%')\n",
    "print(f'Cases in Arrest Year 2: {sum(y_res==2)}, {sum(y_res==2) / len(y_res)*100:.2f}%')\n",
    "print(f'Cases in Arrest Year 3: {sum(y_res==3)}, {sum(y_res==3) / len(y_res)*100:.2f}%')"
   ]
  },
  {
   "cell_type": "markdown",
   "id": "bfacdfbf",
   "metadata": {
    "slideshow": {
     "slide_type": "slide"
    }
   },
   "source": [
    "## 2. Model Selection"
   ]
  },
  {
   "cell_type": "code",
   "execution_count": 10,
   "id": "adce94ac",
   "metadata": {
    "slideshow": {
     "slide_type": "skip"
    }
   },
   "outputs": [],
   "source": [
    "# split train and test dataset\n",
    "X_train, X_test, y_train, y_test = train_test_split(X_res, y_res, test_size=0.2, random_state=0)"
   ]
  },
  {
   "cell_type": "markdown",
   "id": "6505f732",
   "metadata": {
    "slideshow": {
     "slide_type": "slide"
    }
   },
   "source": [
    "### 2.1 K-Nearest Neighbors"
   ]
  },
  {
   "cell_type": "code",
   "execution_count": 11,
   "id": "603f7b2c",
   "metadata": {
    "slideshow": {
     "slide_type": "skip"
    }
   },
   "outputs": [],
   "source": [
    "# tuning parameter k\n",
    "# create holder for cv errors\n",
    "knn_cverrs = {}\n",
    "# create KNN model object\n",
    "knn = KNeighborsClassifier()\n",
    "# loop over k from 1 to 29\n",
    "for i in range(1,30):\n",
    "    knn.set_params(n_neighbors=i)\n",
    "    # get cv error for each k and store it\n",
    "    CV_error = np.mean(cross_val_score(knn, X_train, y_train, cv=5))\n",
    "    knn_cverrs[i] = CV_error\n",
    "# choose the best k by minimum cv error\n",
    "k_best = min(knn_cverrs, key=knn_cverrs.get)"
   ]
  },
  {
   "cell_type": "code",
   "execution_count": 12,
   "id": "64199257",
   "metadata": {
    "slideshow": {
     "slide_type": "fragment"
    }
   },
   "outputs": [
    {
     "data": {
      "image/png": "[encoded data removed]",
      "text/plain": [
       "<Figure size 432x288 with 1 Axes>"
      ]
     },
     "metadata": {},
     "output_type": "display_data"
    }
   ],
   "source": [
    "# plot CV error vs Number of neighbors\n",
    "plt.plot(range(1,30),[val for i,val in knn_cverrs.items()])\n",
    "plt.xlabel(\"Number of Neighbors (k)\")\n",
    "plt.ylabel(\"CV Error\")\n",
    "plt.axvline(x = k_best,color='r')\n",
    "plt.text(x=k_best,y=min([i for k,i in knn_cverrs.items()]),s=k_best)\n",
    "plt.show()"
   ]
  },
  {
   "cell_type": "code",
   "execution_count": 13,
   "id": "c00a4229",
   "metadata": {
    "slideshow": {
     "slide_type": "skip"
    }
   },
   "outputs": [],
   "source": [
    "# create KNN classifier and fit it using training data\n",
    "knn = KNeighborsClassifier(n_neighbors=k_best).fit(X_train, y_train)\n",
    "# get predicted target by applying the KNN model to test data\n",
    "y_pred = knn.predict(X_test)\n",
    "\n",
    "# generate and plot confusion matrix\n",
    "cm_knn = confusion_matrix(y_test,y_pred)\n",
    "display_cm = ConfusionMatrixDisplay(confusion_matrix=cm_knn, display_labels=['Year1','Year2','Year3'])"
   ]
  },
  {
   "cell_type": "code",
   "execution_count": 14,
   "id": "f16e1822",
   "metadata": {
    "slideshow": {
     "slide_type": "skip"
    }
   },
   "outputs": [
    {
     "data": {
      "text/plain": [
       "<sklearn.metrics._plot.confusion_matrix.ConfusionMatrixDisplay at 0x27413e12160>"
      ]
     },
     "execution_count": 14,
     "metadata": {},
     "output_type": "execute_result"
    },
    {
     "data": {
      "image/png": "[encoded data removed]",
      "text/plain": [
       "<Figure size 432x288 with 2 Axes>"
      ]
     },
     "metadata": {},
     "output_type": "display_data"
    }
   ],
   "source": [
    "display_cm.plot()"
   ]
  },
  {
   "cell_type": "code",
   "execution_count": 15,
   "id": "24977d78",
   "metadata": {
    "slideshow": {
     "slide_type": "subslide"
    }
   },
   "outputs": [
    {
     "name": "stdout",
     "output_type": "stream",
     "text": [
      "              precision    recall  f1-score   support\n",
      "\n",
      "           1      0.470     0.513     0.491      1412\n",
      "           2      0.395     0.362     0.378      1381\n",
      "           3      0.466     0.461     0.463      1459\n",
      "\n",
      "    accuracy                          0.446      4252\n",
      "   macro avg      0.444     0.445     0.444      4252\n",
      "weighted avg      0.444     0.446     0.445      4252\n",
      "\n"
     ]
    }
   ],
   "source": [
    "# print classification report\n",
    "print(classification_report(y_test, y_pred, digits=3))"
   ]
  },
  {
   "cell_type": "markdown",
   "id": "2bd8b8f3",
   "metadata": {
    "slideshow": {
     "slide_type": "fragment"
    }
   },
   "source": [
    "**Comment:** \n",
    "\n",
    "KNN model has an accuracy of 0.446 and this model performs badly in classifying all three classes"
   ]
  },
  {
   "cell_type": "markdown",
   "id": "dbf4cc9f",
   "metadata": {
    "slideshow": {
     "slide_type": "slide"
    }
   },
   "source": [
    "### 2.2 Naive Bayes Classifier"
   ]
  },
  {
   "cell_type": "code",
   "execution_count": 16,
   "id": "cf2be78d",
   "metadata": {
    "slideshow": {
     "slide_type": "skip"
    }
   },
   "outputs": [],
   "source": [
    "# set Naive Bayes classifier\n",
    "NB = GaussianNB()\n",
    "# fit the classifier using training data\n",
    "NB.fit(X_train, y_train)\n",
    "# predict target using the model fit\n",
    "NB_pred = NB.predict(X_test)\n",
    "# generate and plot confusion matrix\n",
    "cm_NB = confusion_matrix(y_test, NB_pred)\n",
    "display_cm_NB = ConfusionMatrixDisplay(confusion_matrix = cm_NB, display_labels=['Year1','Year2','Year3'])\n",
    "    "
   ]
  },
  {
   "cell_type": "code",
   "execution_count": 17,
   "id": "709e5450",
   "metadata": {
    "slideshow": {
     "slide_type": "skip"
    }
   },
   "outputs": [
    {
     "data": {
      "text/plain": [
       "<sklearn.metrics._plot.confusion_matrix.ConfusionMatrixDisplay at 0x27415cb3df0>"
      ]
     },
     "execution_count": 17,
     "metadata": {},
     "output_type": "execute_result"
    },
    {
     "data": {
      "image/png": "[encoded data removed]",
      "text/plain": [
       "<Figure size 432x288 with 2 Axes>"
      ]
     },
     "metadata": {},
     "output_type": "display_data"
    }
   ],
   "source": [
    "display_cm_NB.plot()"
   ]
  },
  {
   "cell_type": "code",
   "execution_count": 18,
   "id": "6a9927b0",
   "metadata": {
    "slideshow": {
     "slide_type": "fragment"
    }
   },
   "outputs": [
    {
     "name": "stdout",
     "output_type": "stream",
     "text": [
      "              precision    recall  f1-score   support\n",
      "\n",
      "           1      0.488     0.594     0.536      1412\n",
      "           2      0.390     0.126     0.190      1381\n",
      "           3      0.422     0.605     0.497      1459\n",
      "\n",
      "    accuracy                          0.446      4252\n",
      "   macro avg      0.434     0.442     0.408      4252\n",
      "weighted avg      0.434     0.446     0.411      4252\n",
      "\n"
     ]
    }
   ],
   "source": [
    "# print classification report\n",
    "print(classification_report(y_test, NB_pred, digits=3))"
   ]
  },
  {
   "cell_type": "markdown",
   "id": "8f3eb9d8",
   "metadata": {
    "slideshow": {
     "slide_type": "fragment"
    }
   },
   "source": [
    "**Comment:** \n",
    "\n",
    "Naive Bayes Classifier has an accuracy of 0.446 and this model performs badly in classifying all three classes"
   ]
  },
  {
   "cell_type": "markdown",
   "id": "d7ff4de4",
   "metadata": {
    "slideshow": {
     "slide_type": "slide"
    }
   },
   "source": [
    "### 2.3 Random Forest"
   ]
  },
  {
   "cell_type": "code",
   "execution_count": 19,
   "id": "40d5f81a",
   "metadata": {
    "slideshow": {
     "slide_type": "fragment"
    }
   },
   "outputs": [
    {
     "data": {
      "text/plain": [
       "{'max_features': None, 'n_estimators': 800}"
      ]
     },
     "execution_count": 19,
     "metadata": {},
     "output_type": "execute_result"
    }
   ],
   "source": [
    "# create random forest object\n",
    "rf = RandomForestClassifier(random_state=0)\n",
    "# use GridSearchCV to tune hyperparameter for random forest\n",
    "# Here we include max_features = None for include bagging as one potential model\n",
    "rf_gs = GridSearchCV(rf,param_grid={'n_estimators':range(500,1001, 100), 'max_features':[None,'sqrt','log2']}) \n",
    "rf_gs.fit(X_train, y_train)\n",
    "# get the best parameters\n",
    "rf_gs.best_params_"
   ]
  },
  {
   "cell_type": "code",
   "execution_count": 20,
   "id": "d49d0e0b",
   "metadata": {
    "slideshow": {
     "slide_type": "skip"
    }
   },
   "outputs": [],
   "source": [
    "# refit the random forest model using the best hyperparameters\n",
    "# since the best max_features heer is None, it's essentially bagging tree\n",
    "rf = RandomForestClassifier(n_estimators = 600, max_features = None, random_state=0)\n",
    "rf.fit(X_train, y_train)\n",
    "rf_pred = rf.predict(X_test)\n",
    "# generate and plot confusion matrix\n",
    "cm_rf = confusion_matrix(y_test, rf_pred)\n",
    "display_cm_rf = ConfusionMatrixDisplay(confusion_matrix = cm_rf, display_labels=['Year1','Year2','Year3'])\n",
    "                           \n"
   ]
  },
  {
   "cell_type": "code",
   "execution_count": 21,
   "id": "c4f73f95",
   "metadata": {
    "slideshow": {
     "slide_type": "skip"
    }
   },
   "outputs": [
    {
     "data": {
      "text/plain": [
       "<sklearn.metrics._plot.confusion_matrix.ConfusionMatrixDisplay at 0x274163d84c0>"
      ]
     },
     "execution_count": 21,
     "metadata": {},
     "output_type": "execute_result"
    },
    {
     "data": {
      "image/png": "[encoded data removed]",
      "text/plain": [
       "<Figure size 432x288 with 2 Axes>"
      ]
     },
     "metadata": {},
     "output_type": "display_data"
    }
   ],
   "source": [
    "display_cm_rf.plot()   "
   ]
  },
  {
   "cell_type": "code",
   "execution_count": 22,
   "id": "b27ce327",
   "metadata": {
    "slideshow": {
     "slide_type": "subslide"
    }
   },
   "outputs": [
    {
     "name": "stdout",
     "output_type": "stream",
     "text": [
      "              precision    recall  f1-score   support\n",
      "\n",
      "           1      0.820     0.827     0.823      1412\n",
      "           2      0.797     0.781     0.789      1381\n",
      "           3      0.908     0.918     0.913      1459\n",
      "\n",
      "    accuracy                          0.843      4252\n",
      "   macro avg      0.842     0.842     0.842      4252\n",
      "weighted avg      0.843     0.843     0.843      4252\n",
      "\n"
     ]
    }
   ],
   "source": [
    "# print classification report\n",
    "print(classification_report(y_test, rf_pred, digits=3))"
   ]
  },
  {
   "cell_type": "markdown",
   "id": "1fb8f635",
   "metadata": {
    "slideshow": {
     "slide_type": "fragment"
    }
   },
   "source": [
    "**Comment:** \n",
    "\n",
    "Random Forest Model (in this case, Bagging Tree Model) has an accuracy of 0.843 and this model performs well in classifying all three classes"
   ]
  },
  {
   "cell_type": "markdown",
   "id": "6a7ca173",
   "metadata": {
    "slideshow": {
     "slide_type": "slide"
    }
   },
   "source": [
    "### 2.4 Gradient Boost"
   ]
  },
  {
   "cell_type": "code",
   "execution_count": 23,
   "id": "f103a1a3",
   "metadata": {
    "slideshow": {
     "slide_type": "fragment"
    }
   },
   "outputs": [
    {
     "data": {
      "text/plain": [
       "{'learning_rate': 0.1, 'n_estimators': 500}"
      ]
     },
     "execution_count": 23,
     "metadata": {},
     "output_type": "execute_result"
    }
   ],
   "source": [
    "# create gradient boosting classifier object\n",
    "gb_clf = GradientBoostingClassifier(random_state=0)\n",
    "# use GridSearchCV to tune hyperparameter for gradient boosting\n",
    "params = {'n_estimators':[100,500], 'learning_rate':[0.05, 0.1]}\n",
    "gb_gs = GridSearchCV(gb_clf, param_grid=params)\n",
    "gb_gs.fit(X_train, y_train)\n",
    "# get the best parameters\n",
    "gb_gs.best_params_"
   ]
  },
  {
   "cell_type": "code",
   "execution_count": 24,
   "id": "cf44d684",
   "metadata": {
    "slideshow": {
     "slide_type": "skip"
    }
   },
   "outputs": [],
   "source": [
    "# refit the gradient boosting classifier using best parameters\n",
    "gb_clf = GradientBoostingClassifier(learning_rate=0.05,n_estimators=100, random_state=0)\n",
    "gb_clf.fit(X_train, y_train)\n",
    "gb_pred = gb_clf.predict(X_test)\n",
    "# generate and plot confusion matrix\n",
    "cm_gb = confusion_matrix(y_test, gb_pred)\n",
    "display_cm_gb = ConfusionMatrixDisplay(confusion_matrix = cm_gb, display_labels=['Year1','Year2','Year3'])\n",
    "                             \n"
   ]
  },
  {
   "cell_type": "code",
   "execution_count": 25,
   "id": "e521fc82",
   "metadata": {
    "slideshow": {
     "slide_type": "skip"
    }
   },
   "outputs": [
    {
     "data": {
      "text/plain": [
       "<sklearn.metrics._plot.confusion_matrix.ConfusionMatrixDisplay at 0x274143cccd0>"
      ]
     },
     "execution_count": 25,
     "metadata": {},
     "output_type": "execute_result"
    },
    {
     "data": {
      "image/png": "[encoded data removed]",
      "text/plain": [
       "<Figure size 432x288 with 2 Axes>"
      ]
     },
     "metadata": {},
     "output_type": "display_data"
    }
   ],
   "source": [
    "display_cm_gb.plot() "
   ]
  },
  {
   "cell_type": "code",
   "execution_count": 26,
   "id": "58886c6d",
   "metadata": {
    "slideshow": {
     "slide_type": "subslide"
    }
   },
   "outputs": [
    {
     "name": "stdout",
     "output_type": "stream",
     "text": [
      "              precision    recall  f1-score   support\n",
      "\n",
      "           1      0.570     0.772     0.656      1412\n",
      "           2      0.503     0.358     0.419      1381\n",
      "           3      0.574     0.533     0.553      1459\n",
      "\n",
      "    accuracy                          0.556      4252\n",
      "   macro avg      0.549     0.555     0.542      4252\n",
      "weighted avg      0.550     0.556     0.543      4252\n",
      "\n"
     ]
    }
   ],
   "source": [
    "# print classification result\n",
    "print(classification_report(y_test, gb_pred, digits=3))"
   ]
  },
  {
   "cell_type": "markdown",
   "id": "a79e20d4",
   "metadata": {
    "slideshow": {
     "slide_type": "fragment"
    }
   },
   "source": [
    "**Comment:** \n",
    "\n",
    "Gradient Boosting Model has an accuracy of 0.556 and this model performs relatively better in classifying class 1 (depspite low precision)"
   ]
  },
  {
   "cell_type": "markdown",
   "id": "13dfe4ed",
   "metadata": {
    "slideshow": {
     "slide_type": "slide"
    }
   },
   "source": [
    "## 3. Model Validation\n",
    "- Use ROC_AUC Score"
   ]
  },
  {
   "cell_type": "code",
   "execution_count": 27,
   "id": "c715da2f",
   "metadata": {
    "slideshow": {
     "slide_type": "fragment"
    }
   },
   "outputs": [
    {
     "name": "stdout",
     "output_type": "stream",
     "text": [
      "1. kNN:\n",
      "AUC =  0.6315867504791256 \n",
      "\n",
      "2. Naive Bayes:\n",
      "AUC =  0.6231483133652495 \n",
      "\n",
      "3. Random Forest (Bagging here):\n",
      "AUC =  0.9541259066162612 \n",
      "\n",
      "4. Gradient Boosting:\n",
      "AUC =  0.7435403530599372 \n",
      "\n"
     ]
    }
   ],
   "source": [
    "print('1. kNN:\\nAUC = ', roc_auc_score(y_test, knn.predict_proba(X_test), multi_class='ovr'),'\\n')\n",
    "print('2. Naive Bayes:\\nAUC = ', roc_auc_score(y_test, NB.predict_proba(X_test), multi_class='ovr'),'\\n')\n",
    "print('3. Random Forest (Bagging here):\\nAUC = ', roc_auc_score(y_test, rf.predict_proba(X_test), multi_class='ovr'),'\\n')\n",
    "print('4. Gradient Boosting:\\nAUC = ', roc_auc_score(y_test, gb_clf.predict_proba(X_test), multi_class='ovr'),'\\n')"
   ]
  },
  {
   "cell_type": "markdown",
   "id": "53af5de2",
   "metadata": {
    "slideshow": {
     "slide_type": "subslide"
    }
   },
   "source": [
    "- **AUC: Area Under The Curve**\n",
    "    - Measure the area under the ROC curve\n",
    "    - Computation of the relationship between false positives and true positives.\n",
    "    - Ranges from 0 to 1\n",
    "    - The worst case would be a random classifier with AUC = 0.5 (diagonal)\n",
    "    - \"As a rule of thumb, an AUC above 0.85 means high classification accuracy, one between 0.75 and 0.85 moderate accuracy, and one less than 0.75 low accuracy\" (D' Agostino, Rodgers, & Mauck, 2018)\n",
    "\n",
    "\n",
    "- **Ideal Case**\n",
    "    - The larger the AUC (closer to 1), the better the classifier\n",
    "\n",
    "    \n",
    "- **Model Evaluation**\n",
    "    - Among the 4 classification models, the Random Forest model (Bagging tree model here) yields the highest AUC of 0.954, which is considered to have high classification accuracy, so we pick it as the best model\n"
   ]
  },
  {
   "cell_type": "markdown",
   "id": "3b613797",
   "metadata": {
    "slideshow": {
     "slide_type": "slide"
    }
   },
   "source": [
    "## 4. Best Model Performance"
   ]
  },
  {
   "cell_type": "code",
   "execution_count": 28,
   "id": "763ed7e6",
   "metadata": {
    "slideshow": {
     "slide_type": "skip"
    }
   },
   "outputs": [
    {
     "data": {
      "text/plain": [
       "<sklearn.metrics._plot.confusion_matrix.ConfusionMatrixDisplay at 0x274163d84c0>"
      ]
     },
     "execution_count": 28,
     "metadata": {},
     "output_type": "execute_result"
    },
    {
     "data": {
      "image/png": "[encoded data removed]",
      "text/plain": [
       "<Figure size 432x288 with 2 Axes>"
      ]
     },
     "metadata": {},
     "output_type": "display_data"
    }
   ],
   "source": [
    "# Get confusion matrix of random forest(bagging)\n",
    "display_cm_rf.plot()  "
   ]
  },
  {
   "cell_type": "code",
   "execution_count": 29,
   "id": "633d1926",
   "metadata": {
    "slideshow": {
     "slide_type": "fragment"
    }
   },
   "outputs": [
    {
     "name": "stdout",
     "output_type": "stream",
     "text": [
      "              precision    recall  f1-score   support\n",
      "\n",
      "           1      0.820     0.827     0.823      1412\n",
      "           2      0.797     0.781     0.789      1381\n",
      "           3      0.908     0.918     0.913      1459\n",
      "\n",
      "    accuracy                          0.843      4252\n",
      "   macro avg      0.842     0.842     0.842      4252\n",
      "weighted avg      0.843     0.843     0.843      4252\n",
      "\n"
     ]
    }
   ],
   "source": [
    "# print classification report\n",
    "print(classification_report(y_test, rf_pred, digits=3))"
   ]
  },
  {
   "cell_type": "markdown",
   "id": "1022a004",
   "metadata": {
    "slideshow": {
     "slide_type": "fragment"
    }
   },
   "source": [
    "### 4.1 Interpretation of Classification Results from the Best Model\n",
    "\n",
    "- The overall accuracy of our best model (Bagging Tree Model) is 84.3%. It also generates both high precision and recall (around or higher than 80%) for all three classes (Arrest Year 1, Arrest Year 2, and Arrest Year 3). \n",
    "- Specifically, the model has the best performance in classifying class 3 (Arrest Year 3)."
   ]
  },
  {
   "cell_type": "markdown",
   "id": "93811f3c",
   "metadata": {
    "slideshow": {
     "slide_type": "slide"
    }
   },
   "source": [
    "## 5. Feature Importance "
   ]
  },
  {
   "cell_type": "code",
   "execution_count": 30,
   "id": "64e42f2c",
   "metadata": {
    "slideshow": {
     "slide_type": "skip"
    }
   },
   "outputs": [],
   "source": [
    "# plot feature importance plot\n",
    "feature_df = pd.concat([pd.Series(X_train.columns), pd.DataFrame(rf.feature_importances_)], axis=1)\n",
    "feature_df.columns = ['Feature', 'Mean Decrease in Impurity']\n",
    "feature_df.sort_values(by = ['Mean Decrease in Impurity'], inplace=True)"
   ]
  },
  {
   "cell_type": "code",
   "execution_count": 31,
   "id": "46f7a658",
   "metadata": {
    "slideshow": {
     "slide_type": "fragment"
    }
   },
   "outputs": [
    {
     "data": {
      "image/png": "[encoded data removed]",
      "text/plain": [
       "<Figure size 1080x576 with 1 Axes>"
      ]
     },
     "metadata": {},
     "output_type": "display_data"
    }
   ],
   "source": [
    "plt.figure(figsize=(15, 8))\n",
    "plt.xticks(rotation=90)\n",
    "sns.barplot(x= 'Feature', y= 'Mean Decrease in Impurity', data=feature_df)\n",
    "plt.show()"
   ]
  },
  {
   "cell_type": "markdown",
   "id": "b7ad6c05",
   "metadata": {
    "slideshow": {
     "slide_type": "slide"
    }
   },
   "source": [
    "## Answer to Q2\n",
    "\n",
    "To predict a potential recidivist's arrest year and determine the main features associated with the difference in arrest years, we explored 4 different classification models. Among them, we chose the Bagging Tree model as our best model as it yielded the highest AUC of 0.954.\n"
   ]
  },
  {
   "cell_type": "markdown",
   "id": "f6fb0ebc",
   "metadata": {
    "slideshow": {
     "slide_type": "fragment"
    }
   },
   "source": [
    "| TOP 7 important features in predicting the arrest year (Q2) |  TOP 7 important features in predicting recidivism (Q1)| \n",
    "| --- | --- |\n",
    "| Percent days employeed | Percent days employeed \n",
    "| Jobs per year| Jobs per year\n",
    "| Supervision risk score first | Prior arrest episodes PPViolationCharges | \n",
    "| Prior arrest episodes felony | Age at released | \n",
    "| Age at released | Gang affiliated |\n",
    "| Program attendances | Supervision risk score first |\n",
    "| Delinquency reports| Prior arrest episodes felony |\n"
   ]
  },
  {
   "cell_type": "markdown",
   "id": "4ef05955",
   "metadata": {
    "slideshow": {
     "slide_type": "subslide"
    }
   },
   "source": [
    "Comparison of TOP 7 important features in Q1 and Q2:\n",
    "\n",
    "(Classification model for recidivism  vs Classification model for arrest years)\n",
    "\n",
    "- Percent days employeed and jobs per year are the TOP 1 and TOP 2 important features for both models\n",
    "- Age at released, prior arrest episodes felony, and supervision risk score first are considered important for both models, but with different importance levels\n",
    "- Only 2 out of 7 most important features in total are not shared by both models\n",
    "    - Prior arrest episodes PPViolationCharges and Gang affiliated are associated with predicting recidivism\n",
    "    - Program attendances, Delinquency reports are associated with predicting the arrest year"
   ]
  },
  {
   "cell_type": "markdown",
   "id": "e29468a4",
   "metadata": {
    "slideshow": {
     "slide_type": "skip"
    }
   },
   "source": [
    "# References\n",
    "- ISLR - Chapter 4: Classification Methods\n",
    "- ISLR - Chapter 8: Tree-Based Methods\n",
    "- ISLR - Chapter 5: Resampling Methods\n",
    "- Homework 2\n",
    "- Homework 3\n",
    "- [Classification models for multiclasses](https://scikit-learn.org/stable/modules/multiclass.html)\n",
    "- [ROC AUC score](https://scikit-learn.org/stable/modules/generated/sklearn.metrics.roc_auc_score.html)\n",
    "- [RandomOverSampler](https://imbalanced-learn.org/stable/references/generated/imblearn.over_sampling.RandomOverSampler.html)"
   ]
  }
 ],
 "metadata": {
  "celltoolbar": "Slideshow",
  "kernelspec": {
   "display_name": "Python 3",
   "language": "python",
   "name": "python3"
  },
  "language_info": {
   "codemirror_mode": {
    "name": "ipython",
    "version": 3
   },
   "file_extension": ".py",
   "mimetype": "text/x-python",
   "name": "python",
   "nbconvert_exporter": "python",
   "pygments_lexer": "ipython3",
   "version": "3.8.8"
  }
 },
 "nbformat": 4,
 "nbformat_minor": 5
}
