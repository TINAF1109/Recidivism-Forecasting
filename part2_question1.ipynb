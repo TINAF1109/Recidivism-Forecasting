{
 "cells": [
  {
   "cell_type": "markdown",
   "id": "f59b7d8d",
   "metadata": {
    "slideshow": {
     "slide_type": "skip"
    }
   },
   "source": [
    "# 95-791 Data Mining (Fall 2021) - Final Project, Part 2\n",
    "### Name: Jamie Lim, Thomas Tam, Tina Feng"
   ]
  },
  {
   "cell_type": "markdown",
   "id": "ce9bf5a1",
   "metadata": {
    "id": "ce9bf5a1",
    "slideshow": {
     "slide_type": "slide"
    }
   },
   "source": [
    "# Question 1: \n",
    "Given an individual's criminal record, is he/she likely to recidivate* and what are the main features associated with recidivism?"
   ]
  },
  {
   "cell_type": "markdown",
   "id": "5e80ea67",
   "metadata": {
    "id": "5e80ea67",
    "slideshow": {
     "slide_type": "subslide"
    }
   },
   "source": [
    "For this task, we pick `Recidivism_Within_3Years` as our target variable and use the rest variables excluding `Recidivism_Arrest_Year1`, `Recidivism_Arrest_Year2`, and `Recidivism_Arrest_Year3` as features.\n",
    "\n",
    "The question can be answered with classification models and feature importance. Here we will explore six classification models as follows:\n",
    "1. Logistic Regression\n",
    "    - Suitable for binary target variable\n",
    "2. K-Nearest Neighbors\n",
    "    - Suitable for classification tasks\n",
    "    - Simple & intuitive\n",
    "3. Naive Bayes Classifier\n",
    "    - Suitable for classification tasks\n",
    "    - Efficient and not biased by outliers\n",
    "4. Random Forest \n",
    "    - Powerful and accurate\n",
    "5. Boosting (Gradient/ Adaboost)\n",
    "    - enables a more complex ensemble \n",
    "    \n",
    "*recidivate within 3 years of parole supervision start date"
   ]
  },
  {
   "cell_type": "code",
   "execution_count": 1,
   "id": "716d1627",
   "metadata": {
    "id": "716d1627",
    "slideshow": {
     "slide_type": "skip"
    }
   },
   "outputs": [],
   "source": [
    "# import needed libraries and packages\n",
    "import numpy as np\n",
    "import pandas as pd\n",
    "import seaborn as sns\n",
    "from matplotlib import pyplot as plt\n",
    "\n",
    "from sklearn.metrics import confusion_matrix, ConfusionMatrixDisplay, classification_report\n",
    "from sklearn.model_selection import train_test_split,cross_val_score, GridSearchCV\n",
    "from sklearn import metrics, preprocessing\n",
    "from sklearn.linear_model import LogisticRegression\n",
    "from sklearn.neighbors import KNeighborsClassifier\n",
    "from sklearn.naive_bayes import GaussianNB\n",
    "from sklearn.ensemble import RandomForestClassifier, GradientBoostingClassifier, AdaBoostClassifier\n",
    "from sklearn.metrics import roc_curve\n",
    "from sklearn.metrics import roc_auc_score\n",
    "\n",
    "%matplotlib inline\n",
    "plt.style.use('seaborn-white')"
   ]
  },
  {
   "cell_type": "code",
   "execution_count": 2,
   "id": "cd2cf71d",
   "metadata": {
    "colab": {
     "base_uri": "https://localhost:8080/",
     "height": 243
    },
    "id": "cd2cf71d",
    "outputId": "3a5c8f31-4298-4a56-b266-988729c909bf",
    "slideshow": {
     "slide_type": "skip"
    }
   },
   "outputs": [
    {
     "data": {
      "text/html": [
       "<div>\n",
       "<style scoped>\n",
       "    .dataframe tbody tr th:only-of-type {\n",
       "        vertical-align: middle;\n",
       "    }\n",
       "\n",
       "    .dataframe tbody tr th {\n",
       "        vertical-align: top;\n",
       "    }\n",
       "\n",
       "    .dataframe thead th {\n",
       "        text-align: right;\n",
       "    }\n",
       "</style>\n",
       "<table border=\"1\" class=\"dataframe\">\n",
       "  <thead>\n",
       "    <tr style=\"text-align: right;\">\n",
       "      <th></th>\n",
       "      <th>Gender</th>\n",
       "      <th>Race</th>\n",
       "      <th>Age_at_Release</th>\n",
       "      <th>Gang_Affiliated</th>\n",
       "      <th>Supervision_Risk_Score_First</th>\n",
       "      <th>Education_Level</th>\n",
       "      <th>Dependents</th>\n",
       "      <th>Prison_Years</th>\n",
       "      <th>Prior_Arrest_Episodes_Felony</th>\n",
       "      <th>Prior_Arrest_Episodes_Misd</th>\n",
       "      <th>...</th>\n",
       "      <th>Recidivism_Within_3years</th>\n",
       "      <th>Recidivism_Arrest_Year1</th>\n",
       "      <th>Recidivism_Arrest_Year2</th>\n",
       "      <th>Recidivism_Arrest_Year3</th>\n",
       "      <th>Supervision_Level_First_High</th>\n",
       "      <th>Supervision_Level_First_Standard</th>\n",
       "      <th>Prison_Offense_Drug</th>\n",
       "      <th>Prison_Offense_Property</th>\n",
       "      <th>Prison_Offense_Violent/Non-Sex</th>\n",
       "      <th>Prison_Offense_Violent/Sex</th>\n",
       "    </tr>\n",
       "  </thead>\n",
       "  <tbody>\n",
       "    <tr>\n",
       "      <th>0</th>\n",
       "      <td>1.0</td>\n",
       "      <td>0.0</td>\n",
       "      <td>5.0</td>\n",
       "      <td>0.0</td>\n",
       "      <td>2.0</td>\n",
       "      <td>2.0</td>\n",
       "      <td>3.0</td>\n",
       "      <td>3.0</td>\n",
       "      <td>7.0</td>\n",
       "      <td>6.0</td>\n",
       "      <td>...</td>\n",
       "      <td>0.0</td>\n",
       "      <td>0.0</td>\n",
       "      <td>0.0</td>\n",
       "      <td>0.0</td>\n",
       "      <td>0.0</td>\n",
       "      <td>1.0</td>\n",
       "      <td>1.0</td>\n",
       "      <td>0.0</td>\n",
       "      <td>0.0</td>\n",
       "      <td>0.0</td>\n",
       "    </tr>\n",
       "    <tr>\n",
       "      <th>1</th>\n",
       "      <td>1.0</td>\n",
       "      <td>0.0</td>\n",
       "      <td>3.0</td>\n",
       "      <td>0.0</td>\n",
       "      <td>5.0</td>\n",
       "      <td>0.0</td>\n",
       "      <td>1.0</td>\n",
       "      <td>3.0</td>\n",
       "      <td>8.0</td>\n",
       "      <td>6.0</td>\n",
       "      <td>...</td>\n",
       "      <td>1.0</td>\n",
       "      <td>0.0</td>\n",
       "      <td>0.0</td>\n",
       "      <td>1.0</td>\n",
       "      <td>0.0</td>\n",
       "      <td>0.0</td>\n",
       "      <td>0.0</td>\n",
       "      <td>0.0</td>\n",
       "      <td>1.0</td>\n",
       "      <td>0.0</td>\n",
       "    </tr>\n",
       "    <tr>\n",
       "      <th>2</th>\n",
       "      <td>1.0</td>\n",
       "      <td>0.0</td>\n",
       "      <td>6.0</td>\n",
       "      <td>0.0</td>\n",
       "      <td>6.0</td>\n",
       "      <td>2.0</td>\n",
       "      <td>3.0</td>\n",
       "      <td>1.0</td>\n",
       "      <td>7.0</td>\n",
       "      <td>6.0</td>\n",
       "      <td>...</td>\n",
       "      <td>1.0</td>\n",
       "      <td>0.0</td>\n",
       "      <td>1.0</td>\n",
       "      <td>0.0</td>\n",
       "      <td>1.0</td>\n",
       "      <td>0.0</td>\n",
       "      <td>1.0</td>\n",
       "      <td>0.0</td>\n",
       "      <td>0.0</td>\n",
       "      <td>0.0</td>\n",
       "    </tr>\n",
       "    <tr>\n",
       "      <th>3</th>\n",
       "      <td>1.0</td>\n",
       "      <td>1.0</td>\n",
       "      <td>4.0</td>\n",
       "      <td>0.0</td>\n",
       "      <td>6.0</td>\n",
       "      <td>0.0</td>\n",
       "      <td>1.0</td>\n",
       "      <td>1.0</td>\n",
       "      <td>9.0</td>\n",
       "      <td>6.0</td>\n",
       "      <td>...</td>\n",
       "      <td>0.0</td>\n",
       "      <td>0.0</td>\n",
       "      <td>0.0</td>\n",
       "      <td>0.0</td>\n",
       "      <td>1.0</td>\n",
       "      <td>0.0</td>\n",
       "      <td>0.0</td>\n",
       "      <td>1.0</td>\n",
       "      <td>0.0</td>\n",
       "      <td>0.0</td>\n",
       "    </tr>\n",
       "    <tr>\n",
       "      <th>4</th>\n",
       "      <td>1.0</td>\n",
       "      <td>1.0</td>\n",
       "      <td>3.0</td>\n",
       "      <td>0.0</td>\n",
       "      <td>3.0</td>\n",
       "      <td>0.0</td>\n",
       "      <td>3.0</td>\n",
       "      <td>1.0</td>\n",
       "      <td>5.0</td>\n",
       "      <td>4.0</td>\n",
       "      <td>...</td>\n",
       "      <td>1.0</td>\n",
       "      <td>1.0</td>\n",
       "      <td>0.0</td>\n",
       "      <td>0.0</td>\n",
       "      <td>0.0</td>\n",
       "      <td>0.0</td>\n",
       "      <td>0.0</td>\n",
       "      <td>0.0</td>\n",
       "      <td>1.0</td>\n",
       "      <td>0.0</td>\n",
       "    </tr>\n",
       "  </tbody>\n",
       "</table>\n",
       "<p>5 rows × 54 columns</p>\n",
       "</div>"
      ],
      "text/plain": [
       "   Gender  Race  Age_at_Release  Gang_Affiliated  \\\n",
       "0     1.0   0.0             5.0              0.0   \n",
       "1     1.0   0.0             3.0              0.0   \n",
       "2     1.0   0.0             6.0              0.0   \n",
       "3     1.0   1.0             4.0              0.0   \n",
       "4     1.0   1.0             3.0              0.0   \n",
       "\n",
       "   Supervision_Risk_Score_First  Education_Level  Dependents  Prison_Years  \\\n",
       "0                           2.0              2.0         3.0           3.0   \n",
       "1                           5.0              0.0         1.0           3.0   \n",
       "2                           6.0              2.0         3.0           1.0   \n",
       "3                           6.0              0.0         1.0           1.0   \n",
       "4                           3.0              0.0         3.0           1.0   \n",
       "\n",
       "   Prior_Arrest_Episodes_Felony  Prior_Arrest_Episodes_Misd  ...  \\\n",
       "0                           7.0                         6.0  ...   \n",
       "1                           8.0                         6.0  ...   \n",
       "2                           7.0                         6.0  ...   \n",
       "3                           9.0                         6.0  ...   \n",
       "4                           5.0                         4.0  ...   \n",
       "\n",
       "   Recidivism_Within_3years  Recidivism_Arrest_Year1  Recidivism_Arrest_Year2  \\\n",
       "0                       0.0                      0.0                      0.0   \n",
       "1                       1.0                      0.0                      0.0   \n",
       "2                       1.0                      0.0                      1.0   \n",
       "3                       0.0                      0.0                      0.0   \n",
       "4                       1.0                      1.0                      0.0   \n",
       "\n",
       "   Recidivism_Arrest_Year3  Supervision_Level_First_High  \\\n",
       "0                      0.0                           0.0   \n",
       "1                      1.0                           0.0   \n",
       "2                      0.0                           1.0   \n",
       "3                      0.0                           1.0   \n",
       "4                      0.0                           0.0   \n",
       "\n",
       "   Supervision_Level_First_Standard  Prison_Offense_Drug  \\\n",
       "0                               1.0                  1.0   \n",
       "1                               0.0                  0.0   \n",
       "2                               0.0                  1.0   \n",
       "3                               0.0                  0.0   \n",
       "4                               0.0                  0.0   \n",
       "\n",
       "   Prison_Offense_Property  Prison_Offense_Violent/Non-Sex  \\\n",
       "0                      0.0                             0.0   \n",
       "1                      0.0                             1.0   \n",
       "2                      0.0                             0.0   \n",
       "3                      1.0                             0.0   \n",
       "4                      0.0                             1.0   \n",
       "\n",
       "   Prison_Offense_Violent/Sex  \n",
       "0                         0.0  \n",
       "1                         0.0  \n",
       "2                         0.0  \n",
       "3                         0.0  \n",
       "4                         0.0  \n",
       "\n",
       "[5 rows x 54 columns]"
      ]
     },
     "execution_count": 2,
     "metadata": {},
     "output_type": "execute_result"
    }
   ],
   "source": [
    "# read csv file\n",
    "df_cleaned = pd.read_csv('df_cleaned.csv')\n",
    "df_cleaned.head()"
   ]
  },
  {
   "cell_type": "markdown",
   "id": "cdb87412",
   "metadata": {
    "id": "cdb87412",
    "slideshow": {
     "slide_type": "fragment"
    }
   },
   "source": [
    "**Comment:** \n",
    "\n",
    "Since our target variable is binary, the two classes (recidivised vs not recidivised) are acceptably balanced (~59% vs ~41%). Therefore, we will proceed with the current data points without doing any modification"
   ]
  },
  {
   "cell_type": "markdown",
   "id": "8e58053e",
   "metadata": {
    "id": "8e58053e",
    "slideshow": {
     "slide_type": "slide"
    }
   },
   "source": [
    "## 1. Model Selection"
   ]
  },
  {
   "cell_type": "code",
   "execution_count": 3,
   "id": "08ca205f",
   "metadata": {
    "colab": {
     "base_uri": "https://localhost:8080/"
    },
    "id": "08ca205f",
    "outputId": "188686b1-9667-482c-912e-21bbc908bfbb",
    "slideshow": {
     "slide_type": "skip"
    }
   },
   "outputs": [
    {
     "data": {
      "text/plain": [
       "0    0.0\n",
       "1    1.0\n",
       "2    1.0\n",
       "3    0.0\n",
       "4    1.0\n",
       "Name: Recidivism_Within_3years, dtype: float64"
      ]
     },
     "execution_count": 3,
     "metadata": {},
     "output_type": "execute_result"
    }
   ],
   "source": [
    "# get y \n",
    "y = df_cleaned['Recidivism_Within_3years']\n",
    "y.head()"
   ]
  },
  {
   "cell_type": "code",
   "execution_count": 4,
   "id": "fe16cb94",
   "metadata": {
    "colab": {
     "base_uri": "https://localhost:8080/",
     "height": 243
    },
    "id": "fe16cb94",
    "outputId": "af29d556-8059-4b6f-ea81-f722612ab7bb",
    "slideshow": {
     "slide_type": "skip"
    }
   },
   "outputs": [
    {
     "data": {
      "text/html": [
       "<div>\n",
       "<style scoped>\n",
       "    .dataframe tbody tr th:only-of-type {\n",
       "        vertical-align: middle;\n",
       "    }\n",
       "\n",
       "    .dataframe tbody tr th {\n",
       "        vertical-align: top;\n",
       "    }\n",
       "\n",
       "    .dataframe thead th {\n",
       "        text-align: right;\n",
       "    }\n",
       "</style>\n",
       "<table border=\"1\" class=\"dataframe\">\n",
       "  <thead>\n",
       "    <tr style=\"text-align: right;\">\n",
       "      <th></th>\n",
       "      <th>Gender</th>\n",
       "      <th>Race</th>\n",
       "      <th>Age_at_Release</th>\n",
       "      <th>Gang_Affiliated</th>\n",
       "      <th>Supervision_Risk_Score_First</th>\n",
       "      <th>Education_Level</th>\n",
       "      <th>Dependents</th>\n",
       "      <th>Prison_Years</th>\n",
       "      <th>Prior_Arrest_Episodes_Felony</th>\n",
       "      <th>Prior_Arrest_Episodes_Misd</th>\n",
       "      <th>...</th>\n",
       "      <th>DrugTests_Other_Positive</th>\n",
       "      <th>Percent_Days_Employed</th>\n",
       "      <th>Jobs_Per_Year</th>\n",
       "      <th>Employment_Exempt</th>\n",
       "      <th>Supervision_Level_First_High</th>\n",
       "      <th>Supervision_Level_First_Standard</th>\n",
       "      <th>Prison_Offense_Drug</th>\n",
       "      <th>Prison_Offense_Property</th>\n",
       "      <th>Prison_Offense_Violent/Non-Sex</th>\n",
       "      <th>Prison_Offense_Violent/Sex</th>\n",
       "    </tr>\n",
       "  </thead>\n",
       "  <tbody>\n",
       "    <tr>\n",
       "      <th>0</th>\n",
       "      <td>1.0</td>\n",
       "      <td>0.0</td>\n",
       "      <td>5.0</td>\n",
       "      <td>0.0</td>\n",
       "      <td>2.0</td>\n",
       "      <td>2.0</td>\n",
       "      <td>3.0</td>\n",
       "      <td>3.0</td>\n",
       "      <td>7.0</td>\n",
       "      <td>6.0</td>\n",
       "      <td>...</td>\n",
       "      <td>0.0</td>\n",
       "      <td>0.488562</td>\n",
       "      <td>0.447610</td>\n",
       "      <td>0.0</td>\n",
       "      <td>0.0</td>\n",
       "      <td>1.0</td>\n",
       "      <td>1.0</td>\n",
       "      <td>0.0</td>\n",
       "      <td>0.0</td>\n",
       "      <td>0.0</td>\n",
       "    </tr>\n",
       "    <tr>\n",
       "      <th>1</th>\n",
       "      <td>1.0</td>\n",
       "      <td>0.0</td>\n",
       "      <td>3.0</td>\n",
       "      <td>0.0</td>\n",
       "      <td>5.0</td>\n",
       "      <td>0.0</td>\n",
       "      <td>1.0</td>\n",
       "      <td>3.0</td>\n",
       "      <td>8.0</td>\n",
       "      <td>6.0</td>\n",
       "      <td>...</td>\n",
       "      <td>0.0</td>\n",
       "      <td>0.425234</td>\n",
       "      <td>2.000000</td>\n",
       "      <td>0.0</td>\n",
       "      <td>0.0</td>\n",
       "      <td>0.0</td>\n",
       "      <td>0.0</td>\n",
       "      <td>0.0</td>\n",
       "      <td>1.0</td>\n",
       "      <td>0.0</td>\n",
       "    </tr>\n",
       "    <tr>\n",
       "      <th>2</th>\n",
       "      <td>1.0</td>\n",
       "      <td>0.0</td>\n",
       "      <td>6.0</td>\n",
       "      <td>0.0</td>\n",
       "      <td>6.0</td>\n",
       "      <td>2.0</td>\n",
       "      <td>3.0</td>\n",
       "      <td>1.0</td>\n",
       "      <td>7.0</td>\n",
       "      <td>6.0</td>\n",
       "      <td>...</td>\n",
       "      <td>0.0</td>\n",
       "      <td>0.000000</td>\n",
       "      <td>0.000000</td>\n",
       "      <td>0.0</td>\n",
       "      <td>1.0</td>\n",
       "      <td>0.0</td>\n",
       "      <td>1.0</td>\n",
       "      <td>0.0</td>\n",
       "      <td>0.0</td>\n",
       "      <td>0.0</td>\n",
       "    </tr>\n",
       "    <tr>\n",
       "      <th>3</th>\n",
       "      <td>1.0</td>\n",
       "      <td>1.0</td>\n",
       "      <td>4.0</td>\n",
       "      <td>0.0</td>\n",
       "      <td>6.0</td>\n",
       "      <td>0.0</td>\n",
       "      <td>1.0</td>\n",
       "      <td>1.0</td>\n",
       "      <td>9.0</td>\n",
       "      <td>6.0</td>\n",
       "      <td>...</td>\n",
       "      <td>0.0</td>\n",
       "      <td>1.000000</td>\n",
       "      <td>0.718996</td>\n",
       "      <td>0.0</td>\n",
       "      <td>1.0</td>\n",
       "      <td>0.0</td>\n",
       "      <td>0.0</td>\n",
       "      <td>1.0</td>\n",
       "      <td>0.0</td>\n",
       "      <td>0.0</td>\n",
       "    </tr>\n",
       "    <tr>\n",
       "      <th>4</th>\n",
       "      <td>1.0</td>\n",
       "      <td>1.0</td>\n",
       "      <td>3.0</td>\n",
       "      <td>0.0</td>\n",
       "      <td>3.0</td>\n",
       "      <td>0.0</td>\n",
       "      <td>3.0</td>\n",
       "      <td>1.0</td>\n",
       "      <td>5.0</td>\n",
       "      <td>4.0</td>\n",
       "      <td>...</td>\n",
       "      <td>0.0</td>\n",
       "      <td>0.203562</td>\n",
       "      <td>0.929389</td>\n",
       "      <td>0.0</td>\n",
       "      <td>0.0</td>\n",
       "      <td>0.0</td>\n",
       "      <td>0.0</td>\n",
       "      <td>0.0</td>\n",
       "      <td>1.0</td>\n",
       "      <td>0.0</td>\n",
       "    </tr>\n",
       "  </tbody>\n",
       "</table>\n",
       "<p>5 rows × 50 columns</p>\n",
       "</div>"
      ],
      "text/plain": [
       "   Gender  Race  Age_at_Release  Gang_Affiliated  \\\n",
       "0     1.0   0.0             5.0              0.0   \n",
       "1     1.0   0.0             3.0              0.0   \n",
       "2     1.0   0.0             6.0              0.0   \n",
       "3     1.0   1.0             4.0              0.0   \n",
       "4     1.0   1.0             3.0              0.0   \n",
       "\n",
       "   Supervision_Risk_Score_First  Education_Level  Dependents  Prison_Years  \\\n",
       "0                           2.0              2.0         3.0           3.0   \n",
       "1                           5.0              0.0         1.0           3.0   \n",
       "2                           6.0              2.0         3.0           1.0   \n",
       "3                           6.0              0.0         1.0           1.0   \n",
       "4                           3.0              0.0         3.0           1.0   \n",
       "\n",
       "   Prior_Arrest_Episodes_Felony  Prior_Arrest_Episodes_Misd  ...  \\\n",
       "0                           7.0                         6.0  ...   \n",
       "1                           8.0                         6.0  ...   \n",
       "2                           7.0                         6.0  ...   \n",
       "3                           9.0                         6.0  ...   \n",
       "4                           5.0                         4.0  ...   \n",
       "\n",
       "   DrugTests_Other_Positive  Percent_Days_Employed  Jobs_Per_Year  \\\n",
       "0                       0.0               0.488562       0.447610   \n",
       "1                       0.0               0.425234       2.000000   \n",
       "2                       0.0               0.000000       0.000000   \n",
       "3                       0.0               1.000000       0.718996   \n",
       "4                       0.0               0.203562       0.929389   \n",
       "\n",
       "   Employment_Exempt  Supervision_Level_First_High  \\\n",
       "0                0.0                           0.0   \n",
       "1                0.0                           0.0   \n",
       "2                0.0                           1.0   \n",
       "3                0.0                           1.0   \n",
       "4                0.0                           0.0   \n",
       "\n",
       "   Supervision_Level_First_Standard  Prison_Offense_Drug  \\\n",
       "0                               1.0                  1.0   \n",
       "1                               0.0                  0.0   \n",
       "2                               0.0                  1.0   \n",
       "3                               0.0                  0.0   \n",
       "4                               0.0                  0.0   \n",
       "\n",
       "   Prison_Offense_Property  Prison_Offense_Violent/Non-Sex  \\\n",
       "0                      0.0                             0.0   \n",
       "1                      0.0                             1.0   \n",
       "2                      0.0                             0.0   \n",
       "3                      1.0                             0.0   \n",
       "4                      0.0                             1.0   \n",
       "\n",
       "   Prison_Offense_Violent/Sex  \n",
       "0                         0.0  \n",
       "1                         0.0  \n",
       "2                         0.0  \n",
       "3                         0.0  \n",
       "4                         0.0  \n",
       "\n",
       "[5 rows x 50 columns]"
      ]
     },
     "execution_count": 4,
     "metadata": {},
     "output_type": "execute_result"
    }
   ],
   "source": [
    "# get X\n",
    "X = df_cleaned.drop(['Recidivism_Within_3years','Recidivism_Arrest_Year1', 'Recidivism_Arrest_Year2', 'Recidivism_Arrest_Year3'], axis=1)\n",
    "X.head()"
   ]
  },
  {
   "cell_type": "code",
   "execution_count": 5,
   "id": "707aa027",
   "metadata": {
    "colab": {
     "base_uri": "https://localhost:8080/"
    },
    "id": "707aa027",
    "outputId": "ffe77fed-559e-4f89-9b81-35ed539051ab",
    "slideshow": {
     "slide_type": "skip"
    }
   },
   "outputs": [],
   "source": [
    "# split into train&test dataset\n",
    "X_train, X_test, y_train, y_test = train_test_split(X, y, test_size=0.2, random_state=0)"
   ]
  },
  {
   "cell_type": "markdown",
   "id": "a6022ba8",
   "metadata": {
    "id": "a6022ba8",
    "slideshow": {
     "slide_type": "slide"
    }
   },
   "source": [
    "### 1.1 Logistic Regression"
   ]
  },
  {
   "cell_type": "code",
   "execution_count": 6,
   "id": "4ad63cd7",
   "metadata": {
    "colab": {
     "base_uri": "https://localhost:8080/"
    },
    "id": "4ad63cd7",
    "outputId": "076b448b-9217-476e-e9ac-7f1e9334a639",
    "slideshow": {
     "slide_type": "skip"
    }
   },
   "outputs": [
    {
     "data": {
      "text/plain": [
       "LogisticRegression(max_iter=1000)"
      ]
     },
     "execution_count": 6,
     "metadata": {},
     "output_type": "execute_result"
    }
   ],
   "source": [
    "# create logit object\n",
    "logit = LogisticRegression(max_iter=1000)\n",
    "\n",
    "# train the model\n",
    "logit.fit(X_train, y_train)"
   ]
  },
  {
   "cell_type": "code",
   "execution_count": 7,
   "id": "e07e8b45",
   "metadata": {
    "id": "e07e8b45",
    "slideshow": {
     "slide_type": "skip"
    }
   },
   "outputs": [],
   "source": [
    "# make predictions\n",
    "pred = logit.predict(X_test)"
   ]
  },
  {
   "cell_type": "code",
   "execution_count": 8,
   "id": "eb35d572",
   "metadata": {
    "colab": {
     "base_uri": "https://localhost:8080/",
     "height": 297
    },
    "id": "61249405",
    "outputId": "df17251d-fb31-4758-e9bd-6aca28833a81",
    "slideshow": {
     "slide_type": "skip"
    }
   },
   "outputs": [],
   "source": [
    "# plot confusion matrix\n",
    "cm_logit = confusion_matrix(y_test,pred)\n",
    "display_cm_logit = ConfusionMatrixDisplay(confusion_matrix=cm_logit, display_labels=['No (0)','Yes (1)'])"
   ]
  },
  {
   "cell_type": "code",
   "execution_count": 9,
   "id": "61249405",
   "metadata": {
    "colab": {
     "base_uri": "https://localhost:8080/",
     "height": 297
    },
    "id": "61249405",
    "outputId": "df17251d-fb31-4758-e9bd-6aca28833a81",
    "slideshow": {
     "slide_type": "skip"
    }
   },
   "outputs": [
    {
     "data": {
      "text/plain": [
       "<sklearn.metrics._plot.confusion_matrix.ConfusionMatrixDisplay at 0x1e32b12c550>"
      ]
     },
     "execution_count": 9,
     "metadata": {},
     "output_type": "execute_result"
    },
    {
     "data": {
      "image/png": "[encoded data removed]",
      "text/plain": [
       "<Figure size 432x288 with 2 Axes>"
      ]
     },
     "metadata": {},
     "output_type": "display_data"
    }
   ],
   "source": [
    "display_cm_logit.plot()"
   ]
  },
  {
   "cell_type": "code",
   "execution_count": 10,
   "id": "dcd49c82",
   "metadata": {
    "colab": {
     "base_uri": "https://localhost:8080/"
    },
    "id": "dcd49c82",
    "outputId": "f96ecb56-47a9-498d-8164-b2ce3a1bdc8d",
    "slideshow": {
     "slide_type": "fragment"
    }
   },
   "outputs": [
    {
     "name": "stdout",
     "output_type": "stream",
     "text": [
      "              precision    recall  f1-score   support\n",
      "\n",
      "         0.0      0.688     0.560     0.617      1941\n",
      "         1.0      0.720     0.817     0.766      2692\n",
      "\n",
      "    accuracy                          0.709      4633\n",
      "   macro avg      0.704     0.688     0.691      4633\n",
      "weighted avg      0.707     0.709     0.703      4633\n",
      "\n"
     ]
    }
   ],
   "source": [
    "# classification report\n",
    "print(classification_report(y_test, pred, digits=3))"
   ]
  },
  {
   "cell_type": "markdown",
   "id": "012368df",
   "metadata": {
    "id": "012368df",
    "slideshow": {
     "slide_type": "fragment"
    }
   },
   "source": [
    "**Comment:** \n",
    "\n",
    "Logistic regression model has an accuracy of 0.705 and this model seems to perform better with classifying class 1 (higher precision and recall)"
   ]
  },
  {
   "cell_type": "markdown",
   "id": "5DYtk-Rn5p3V",
   "metadata": {
    "id": "5DYtk-Rn5p3V",
    "slideshow": {
     "slide_type": "slide"
    }
   },
   "source": [
    "### 1.2 K-Nearest Neighbors"
   ]
  },
  {
   "cell_type": "code",
   "execution_count": 11,
   "id": "07d09971",
   "metadata": {
    "id": "07d09971",
    "slideshow": {
     "slide_type": "skip"
    }
   },
   "outputs": [],
   "source": [
    "# tuning parameter k\n",
    "# create holder for cv errors\n",
    "knn_cverrs = {}\n",
    "# create KNN model object\n",
    "knn = KNeighborsClassifier()\n",
    "# loop over k from 1 to 29\n",
    "for i in range(1,30):\n",
    "    knn.set_params(n_neighbors=i)\n",
    "    # get cv error for each k and store it\n",
    "    CV_error = np.mean(cross_val_score(knn, X_train, y_train, cv=5))\n",
    "    knn_cverrs[i] = CV_error\n",
    "# choose the best k by minimum cv error\n",
    "k_best = min(knn_cverrs, key=knn_cverrs.get)"
   ]
  },
  {
   "cell_type": "code",
   "execution_count": 12,
   "id": "3df202a5",
   "metadata": {
    "id": "3656b29b",
    "outputId": "58538a33-84e5-44c1-b0a4-4a86fe623519",
    "slideshow": {
     "slide_type": "skip"
    }
   },
   "outputs": [
    {
     "data": {
      "image/png": "[encoded data removed]",
      "text/plain": [
       "<Figure size 432x288 with 1 Axes>"
      ]
     },
     "metadata": {},
     "output_type": "display_data"
    }
   ],
   "source": [
    "# plot CV error vs Number of neighbors\n",
    "plt.plot(range(1,30),[val for i,val in knn_cverrs.items()])\n",
    "plt.xlabel(\"Number of Neighbors (k)\")\n",
    "plt.ylabel(\"CV Error\")\n",
    "plt.axvline(x = k_best,color='r')\n",
    "plt.text(x=k_best,y=min([i for k,i in knn_cverrs.items()]),s=k_best)\n",
    "plt.show()"
   ]
  },
  {
   "cell_type": "code",
   "execution_count": 13,
   "id": "55535312",
   "metadata": {
    "id": "5UDJZxJm4SbJ",
    "outputId": "1f76d3cb-47c9-4ed1-8f6e-a09bad38aa90",
    "slideshow": {
     "slide_type": "skip"
    }
   },
   "outputs": [],
   "source": [
    "# refit the KNN model with best k = 2\n",
    "knn = KNeighborsClassifier(n_neighbors=k_best).fit(X_train, y_train)\n",
    "# get predicted target value\n",
    "y_pred = knn.predict(X_test)\n",
    "\n",
    "# generate and plot confusion matrix\n",
    "cm_knn_best = confusion_matrix(y_test,y_pred)\n",
    "display_cm = ConfusionMatrixDisplay(confusion_matrix=cm_knn_best, display_labels=['No (0)','Yes (1)'])"
   ]
  },
  {
   "cell_type": "code",
   "execution_count": 14,
   "id": "5UDJZxJm4SbJ",
   "metadata": {
    "id": "5UDJZxJm4SbJ",
    "outputId": "1f76d3cb-47c9-4ed1-8f6e-a09bad38aa90",
    "slideshow": {
     "slide_type": "skip"
    }
   },
   "outputs": [
    {
     "data": {
      "text/plain": [
       "<sklearn.metrics._plot.confusion_matrix.ConfusionMatrixDisplay at 0x1e371689130>"
      ]
     },
     "execution_count": 14,
     "metadata": {},
     "output_type": "execute_result"
    },
    {
     "data": {
      "image/png": "[encoded data removed]",
      "text/plain": [
       "<Figure size 432x288 with 2 Axes>"
      ]
     },
     "metadata": {},
     "output_type": "display_data"
    }
   ],
   "source": [
    "display_cm.plot()"
   ]
  },
  {
   "cell_type": "code",
   "execution_count": 15,
   "id": "7d4e38e1",
   "metadata": {
    "id": "7d4e38e1",
    "outputId": "68f29a99-ec8e-4451-a75b-5e177e0aa7e7",
    "slideshow": {
     "slide_type": "fragment"
    }
   },
   "outputs": [
    {
     "name": "stdout",
     "output_type": "stream",
     "text": [
      "              precision    recall  f1-score   support\n",
      "\n",
      "         0.0      0.487     0.727     0.583      1941\n",
      "         1.0      0.694     0.447     0.544      2692\n",
      "\n",
      "    accuracy                          0.564      4633\n",
      "   macro avg      0.591     0.587     0.564      4633\n",
      "weighted avg      0.607     0.564     0.560      4633\n",
      "\n"
     ]
    }
   ],
   "source": [
    "# print classification report\n",
    "print(classification_report(y_test, y_pred, digits=3))"
   ]
  },
  {
   "cell_type": "markdown",
   "id": "121d8bdb",
   "metadata": {
    "id": "121d8bdb",
    "slideshow": {
     "slide_type": "fragment"
    }
   },
   "source": [
    "**Comment:** \n",
    "\n",
    "KNN model has an accuracy of 0.564 and this model seems to have an average performance in classifying both class 0 (lower precisino but higher recall) and class 1 (higher precision but lower recall)"
   ]
  },
  {
   "cell_type": "markdown",
   "id": "f0aa56da",
   "metadata": {
    "id": "f0aa56da",
    "slideshow": {
     "slide_type": "slide"
    }
   },
   "source": [
    "### 1.3 Naive Bayes Classifier"
   ]
  },
  {
   "cell_type": "code",
   "execution_count": 16,
   "id": "a51146cd",
   "metadata": {
    "id": "e428d363",
    "outputId": "496e5590-df7b-4901-ad4c-5a70cd3310e3",
    "slideshow": {
     "slide_type": "skip"
    }
   },
   "outputs": [],
   "source": [
    "# set Naive Bayes classifier\n",
    "NB = GaussianNB()\n",
    "# fit the classifier using training data\n",
    "NB.fit(X_train, y_train)\n",
    "# predict target using the model fit\n",
    "NB_pred = NB.predict(X_test)\n",
    "# generate and plot confusion matrix\n",
    "cm_NB = confusion_matrix(y_test, NB_pred)\n",
    "display_cm_NB = ConfusionMatrixDisplay(confusion_matrix = cm_NB, display_labels=['No (0)','Yes (1)'])"
   ]
  },
  {
   "cell_type": "code",
   "execution_count": 17,
   "id": "e428d363",
   "metadata": {
    "id": "e428d363",
    "outputId": "496e5590-df7b-4901-ad4c-5a70cd3310e3",
    "scrolled": true,
    "slideshow": {
     "slide_type": "skip"
    }
   },
   "outputs": [
    {
     "data": {
      "text/plain": [
       "<sklearn.metrics._plot.confusion_matrix.ConfusionMatrixDisplay at 0x1e371520ac0>"
      ]
     },
     "execution_count": 17,
     "metadata": {},
     "output_type": "execute_result"
    },
    {
     "data": {
      "image/png": "[encoded data removed]",
      "text/plain": [
       "<Figure size 432x288 with 2 Axes>"
      ]
     },
     "metadata": {},
     "output_type": "display_data"
    }
   ],
   "source": [
    "display_cm_NB.plot()                              "
   ]
  },
  {
   "cell_type": "code",
   "execution_count": 18,
   "id": "5ed16483",
   "metadata": {
    "id": "5ed16483",
    "outputId": "b6868ea0-e643-4a6a-87bf-ea09a13bf29d",
    "slideshow": {
     "slide_type": "fragment"
    }
   },
   "outputs": [
    {
     "name": "stdout",
     "output_type": "stream",
     "text": [
      "              precision    recall  f1-score   support\n",
      "\n",
      "         0.0      0.571     0.683     0.622      1941\n",
      "         1.0      0.734     0.630     0.678      2692\n",
      "\n",
      "    accuracy                          0.652      4633\n",
      "   macro avg      0.652     0.656     0.650      4633\n",
      "weighted avg      0.665     0.652     0.654      4633\n",
      "\n"
     ]
    }
   ],
   "source": [
    "# print classification report\n",
    "print(classification_report(y_test, NB_pred, digits=3))\n"
   ]
  },
  {
   "cell_type": "markdown",
   "id": "d9ebf437",
   "metadata": {
    "id": "d9ebf437",
    "slideshow": {
     "slide_type": "fragment"
    }
   },
   "source": [
    "**Comment:** \n",
    "\n",
    "Naive Bayes Classifier has an accuracy of 0.605 and this model seems to perform better with classifying class 1 (higher precision, although class 0 has a relatively higher recall)"
   ]
  },
  {
   "cell_type": "markdown",
   "id": "d891edb1",
   "metadata": {
    "id": "d891edb1",
    "slideshow": {
     "slide_type": "slide"
    }
   },
   "source": [
    "### 1.4 Random Forest "
   ]
  },
  {
   "cell_type": "code",
   "execution_count": 19,
   "id": "7d9e8be1",
   "metadata": {
    "id": "7d9e8be1",
    "outputId": "e0042e0a-3042-4225-9226-7c08e9315ca5",
    "slideshow": {
     "slide_type": "skip"
    }
   },
   "outputs": [
    {
     "data": {
      "text/plain": [
       "{'max_features': 'log2', 'n_estimators': 600}"
      ]
     },
     "execution_count": 19,
     "metadata": {},
     "output_type": "execute_result"
    }
   ],
   "source": [
    "# create random forest object\n",
    "rf = RandomForestClassifier(random_state=0)\n",
    "# use GridSearchCV to tune hyperparameter for random forest\n",
    "# Here we include max_features = None for include bagging as one potential model\n",
    "rf_gs = GridSearchCV(rf,param_grid={'n_estimators':range(500,1001, 100), 'max_features':[None,'sqrt','log2']}) \n",
    "rf_gs.fit(X_train, y_train)\n",
    "# get the best hyperparameters\n",
    "rf_gs.best_params_"
   ]
  },
  {
   "cell_type": "code",
   "execution_count": 20,
   "id": "af6a24c2",
   "metadata": {
    "id": "c9c99c79",
    "outputId": "13c36945-72a2-4572-d23a-eef133ade9ad",
    "slideshow": {
     "slide_type": "skip"
    }
   },
   "outputs": [],
   "source": [
    "# refit the random forest model using the best hyperparameters\n",
    "rf = RandomForestClassifier(n_estimators = 600, max_features = 'log2', random_state=0)\n",
    "rf.fit(X_train, y_train)\n",
    "rf_pred = rf.predict(X_test)\n",
    "# generate and plot confusion matrix\n",
    "cm_rf = confusion_matrix(y_test, rf_pred)\n",
    "display_cm_rf = ConfusionMatrixDisplay(confusion_matrix = cm_rf, display_labels=['No (0)','Yes (1)'])"
   ]
  },
  {
   "cell_type": "code",
   "execution_count": 21,
   "id": "c9c99c79",
   "metadata": {
    "id": "c9c99c79",
    "outputId": "13c36945-72a2-4572-d23a-eef133ade9ad",
    "slideshow": {
     "slide_type": "skip"
    }
   },
   "outputs": [
    {
     "data": {
      "text/plain": [
       "<sklearn.metrics._plot.confusion_matrix.ConfusionMatrixDisplay at 0x1e37164cee0>"
      ]
     },
     "execution_count": 21,
     "metadata": {},
     "output_type": "execute_result"
    },
    {
     "data": {
      "image/png": "[encoded data removed]",
      "text/plain": [
       "<Figure size 432x288 with 2 Axes>"
      ]
     },
     "metadata": {},
     "output_type": "display_data"
    }
   ],
   "source": [
    "display_cm_rf.plot()                              "
   ]
  },
  {
   "cell_type": "code",
   "execution_count": 22,
   "id": "ab29507b",
   "metadata": {
    "id": "ab29507b",
    "outputId": "0595e302-2ffd-4622-e16c-66f387eb93f2",
    "slideshow": {
     "slide_type": "fragment"
    }
   },
   "outputs": [
    {
     "name": "stdout",
     "output_type": "stream",
     "text": [
      "              precision    recall  f1-score   support\n",
      "\n",
      "         0.0      0.733     0.538     0.621      1941\n",
      "         1.0      0.721     0.858     0.784      2692\n",
      "\n",
      "    accuracy                          0.724      4633\n",
      "   macro avg      0.727     0.698     0.702      4633\n",
      "weighted avg      0.726     0.724     0.715      4633\n",
      "\n"
     ]
    }
   ],
   "source": [
    "# print classification report\n",
    "print(classification_report(y_test, rf_pred, digits=3))"
   ]
  },
  {
   "cell_type": "markdown",
   "id": "985ba1e1",
   "metadata": {
    "id": "985ba1e1",
    "slideshow": {
     "slide_type": "fragment"
    }
   },
   "source": [
    "**Comment:** \n",
    "\n",
    "Random forest model has an accuracy of 0.724 and this model seems to perform better with classifying class 1 (comparable precision and higher recall)"
   ]
  },
  {
   "cell_type": "markdown",
   "id": "f7c7b6ef",
   "metadata": {
    "id": "f7c7b6ef",
    "slideshow": {
     "slide_type": "slide"
    }
   },
   "source": [
    "### 1.5 Gradient Boosting"
   ]
  },
  {
   "cell_type": "code",
   "execution_count": 23,
   "id": "a69b7dc0",
   "metadata": {
    "id": "a69b7dc0",
    "outputId": "aa492908-dbe9-491a-efe4-20b5ca9d3648",
    "slideshow": {
     "slide_type": "skip"
    }
   },
   "outputs": [
    {
     "data": {
      "text/plain": [
       "{'learning_rate': 0.05, 'n_estimators': 500}"
      ]
     },
     "execution_count": 23,
     "metadata": {},
     "output_type": "execute_result"
    }
   ],
   "source": [
    "# create gradient boosting classifier object\n",
    "gb_clf = GradientBoostingClassifier(random_state=0)\n",
    "# use GridSearchCV to tune hyperparameter for gradient boosting\n",
    "params = {'n_estimators':[100,500], 'learning_rate':[0.05, 0.1]}\n",
    "gb_gs = GridSearchCV(gb_clf, param_grid=params)\n",
    "gb_gs.fit(X_train, y_train)\n",
    "# get the best parameters\n",
    "gb_gs.best_params_"
   ]
  },
  {
   "cell_type": "code",
   "execution_count": 24,
   "id": "36477922",
   "metadata": {
    "id": "e1617852",
    "outputId": "626d058f-26ce-4732-e472-118c40aee47a",
    "slideshow": {
     "slide_type": "skip"
    }
   },
   "outputs": [],
   "source": [
    "# refit the gradient boosting classifier using best parameters\n",
    "gb_clf = GradientBoostingClassifier(learning_rate=0.05,n_estimators=500, random_state=0)\n",
    "gb_clf.fit(X_train, y_train)\n",
    "gb_pred = gb_clf.predict(X_test)\n",
    "# generate and plot confusion matrix\n",
    "cm_gb = confusion_matrix(y_test, gb_pred)\n",
    "display_cm_gb = ConfusionMatrixDisplay(confusion_matrix = cm_gb, display_labels=['No (0)','Yes (1)'])"
   ]
  },
  {
   "cell_type": "code",
   "execution_count": 25,
   "id": "e1617852",
   "metadata": {
    "id": "e1617852",
    "outputId": "626d058f-26ce-4732-e472-118c40aee47a",
    "slideshow": {
     "slide_type": "skip"
    }
   },
   "outputs": [
    {
     "data": {
      "text/plain": [
       "<sklearn.metrics._plot.confusion_matrix.ConfusionMatrixDisplay at 0x1e371520730>"
      ]
     },
     "execution_count": 25,
     "metadata": {},
     "output_type": "execute_result"
    },
    {
     "data": {
      "image/png": "[encoded data removed]",
      "text/plain": [
       "<Figure size 432x288 with 2 Axes>"
      ]
     },
     "metadata": {},
     "output_type": "display_data"
    }
   ],
   "source": [
    "display_cm_gb.plot()                              "
   ]
  },
  {
   "cell_type": "code",
   "execution_count": 26,
   "id": "fe8e4370",
   "metadata": {
    "id": "fe8e4370",
    "outputId": "15716672-1a16-42d5-f778-d8c0dc41a7e9",
    "slideshow": {
     "slide_type": "fragment"
    }
   },
   "outputs": [
    {
     "name": "stdout",
     "output_type": "stream",
     "text": [
      "              precision    recall  f1-score   support\n",
      "\n",
      "         0.0      0.733     0.581     0.648      1941\n",
      "         1.0      0.737     0.847     0.788      2692\n",
      "\n",
      "    accuracy                          0.736      4633\n",
      "   macro avg      0.735     0.714     0.718      4633\n",
      "weighted avg      0.735     0.736     0.729      4633\n",
      "\n"
     ]
    }
   ],
   "source": [
    "# print classification result\n",
    "print(classification_report(y_test, gb_pred, digits=3))"
   ]
  },
  {
   "cell_type": "markdown",
   "id": "ff023076",
   "metadata": {
    "id": "ff023076",
    "slideshow": {
     "slide_type": "fragment"
    }
   },
   "source": [
    "**Comment:** \n",
    "\n",
    "Gradient boosting model has an accuracy of 0.736 and this model seems to perform better with classifying class 1 (higher precision and recall)"
   ]
  },
  {
   "cell_type": "markdown",
   "id": "2a2c7cb1",
   "metadata": {
    "id": "2a2c7cb1",
    "slideshow": {
     "slide_type": "slide"
    }
   },
   "source": [
    "### 1.6 Ada Boost"
   ]
  },
  {
   "cell_type": "code",
   "execution_count": 27,
   "id": "e075f8e0",
   "metadata": {
    "id": "e075f8e0",
    "outputId": "c34d32be-0f71-471f-aec3-8b0e386c375a",
    "slideshow": {
     "slide_type": "skip"
    }
   },
   "outputs": [
    {
     "data": {
      "text/plain": [
       "{'learning_rate': 0.1, 'n_estimators': 500}"
      ]
     },
     "execution_count": 27,
     "metadata": {},
     "output_type": "execute_result"
    }
   ],
   "source": [
    "# create ada boosting classifier object using best parameters\n",
    "ab_clf = AdaBoostClassifier(random_state=0)\n",
    "# use GridSearchCV to tune hyperparameter for ada boosting\n",
    "params = {'n_estimators':[100,500], 'learning_rate':[0.05, 0.1]}\n",
    "ab_gs = GridSearchCV(ab_clf, param_grid=params)\n",
    "ab_gs.fit(X_train, y_train)\n",
    "# get the best parameters\n",
    "ab_gs.best_params_"
   ]
  },
  {
   "cell_type": "code",
   "execution_count": 28,
   "id": "d3469bd3",
   "metadata": {
    "id": "3466f79d",
    "outputId": "3a505cd3-46dd-49c2-ff50-269242df39d5",
    "slideshow": {
     "slide_type": "skip"
    }
   },
   "outputs": [],
   "source": [
    "# refit ada boosting classifier\n",
    "ab_clf = AdaBoostClassifier(learning_rate=0.1,n_estimators=500, random_state=0)\n",
    "ab_clf.fit(X_train, y_train)\n",
    "ab_pred = ab_clf.predict(X_test)\n",
    "# generate and plot confusion matrix\n",
    "cm_ab = confusion_matrix(y_test, ab_pred)\n",
    "display_cm_ab = ConfusionMatrixDisplay(confusion_matrix = cm_ab, display_labels=['No (0)','Yes (1)'])"
   ]
  },
  {
   "cell_type": "code",
   "execution_count": 29,
   "id": "3466f79d",
   "metadata": {
    "id": "3466f79d",
    "outputId": "3a505cd3-46dd-49c2-ff50-269242df39d5",
    "slideshow": {
     "slide_type": "skip"
    }
   },
   "outputs": [
    {
     "data": {
      "text/plain": [
       "<sklearn.metrics._plot.confusion_matrix.ConfusionMatrixDisplay at 0x1e372eeac10>"
      ]
     },
     "execution_count": 29,
     "metadata": {},
     "output_type": "execute_result"
    },
    {
     "data": {
      "image/png": "[encoded data removed]",
      "text/plain": [
       "<Figure size 432x288 with 2 Axes>"
      ]
     },
     "metadata": {},
     "output_type": "display_data"
    }
   ],
   "source": [
    "display_cm_ab.plot()"
   ]
  },
  {
   "cell_type": "code",
   "execution_count": 30,
   "id": "d66e4e16",
   "metadata": {
    "id": "d66e4e16",
    "outputId": "1256f9ca-a49e-4d2c-85e2-144fcd4f068c",
    "slideshow": {
     "slide_type": "fragment"
    }
   },
   "outputs": [
    {
     "name": "stdout",
     "output_type": "stream",
     "text": [
      "              precision    recall  f1-score   support\n",
      "\n",
      "         0.0      0.713     0.564     0.630      1941\n",
      "         1.0      0.727     0.837     0.778      2692\n",
      "\n",
      "    accuracy                          0.722      4633\n",
      "   macro avg      0.720     0.700     0.704      4633\n",
      "weighted avg      0.721     0.722     0.716      4633\n",
      "\n"
     ]
    }
   ],
   "source": [
    "# print classification model\n",
    "print(classification_report(y_test, ab_pred, digits=3))"
   ]
  },
  {
   "cell_type": "markdown",
   "id": "37228fa0",
   "metadata": {
    "id": "37228fa0",
    "slideshow": {
     "slide_type": "fragment"
    }
   },
   "source": [
    "**Comment:** \n",
    "\n",
    "Ada boosting model has an accuracy of 0.722 and this model seems to perform better with classifying class 1 (higher precision and recall)"
   ]
  },
  {
   "cell_type": "markdown",
   "id": "jVhtwNdn5u8l",
   "metadata": {
    "id": "jVhtwNdn5u8l",
    "slideshow": {
     "slide_type": "slide"
    }
   },
   "source": [
    "## 2. Model Validation \n",
    "-  Using ROC Curve and AUC"
   ]
  },
  {
   "cell_type": "code",
   "execution_count": 31,
   "id": "19a2a52e",
   "metadata": {
    "id": "19a2a52e",
    "slideshow": {
     "slide_type": "skip"
    }
   },
   "outputs": [],
   "source": [
    "# Logit Regression\n",
    "# get predicted probability of test data\n",
    "logit_probs = logit.predict_proba(X_test)\n",
    "# extract the positive columns for each output\n",
    "logit_auc = roc_auc_score(y_test, logit_probs[:, 1])\n",
    "# get fpr, tpr, and tresholds for roc curve\n",
    "logit_fpr, logit_tpr, logit_thresholds = roc_curve(y_test, logit_probs[:, 1])"
   ]
  },
  {
   "cell_type": "code",
   "execution_count": 32,
   "id": "b3eafbc6",
   "metadata": {
    "id": "b3eafbc6",
    "slideshow": {
     "slide_type": "skip"
    }
   },
   "outputs": [],
   "source": [
    "# kNN model\n",
    "# get predicted probability of test data\n",
    "knn_probs = knn.predict_proba(X_test)\n",
    "# extract the positive columns for each output\n",
    "knn_auc = roc_auc_score(y_test, knn_probs[:, 1])\n",
    "knn_fpr, knn_tpr, knn_thresholds = roc_curve(y_test, knn_probs[:, 1])"
   ]
  },
  {
   "cell_type": "code",
   "execution_count": 33,
   "id": "39cd872a",
   "metadata": {
    "id": "39cd872a",
    "slideshow": {
     "slide_type": "skip"
    }
   },
   "outputs": [],
   "source": [
    "# naive bayes model\n",
    "# get predicted probability of test data\n",
    "nb_probs = NB.predict_proba(X_test)\n",
    "# extract the positive columns for each output\n",
    "nb_auc = roc_auc_score(y_test, nb_probs[:, 1])\n",
    "# get fpr, tpr, and tresholds for roc curve\n",
    "nb_fpr, nb_tpr, nb_thresholds = roc_curve(y_test, nb_probs[:, 1])"
   ]
  },
  {
   "cell_type": "code",
   "execution_count": 34,
   "id": "0d8dec03",
   "metadata": {
    "id": "0d8dec03",
    "slideshow": {
     "slide_type": "skip"
    }
   },
   "outputs": [],
   "source": [
    "# random forest\n",
    "# get predicted probability of test data\n",
    "rf_probs = rf.predict_proba(X_test)\n",
    "# extract the positive columns for each output\n",
    "rf_auc = roc_auc_score(y_test, rf_probs[:, 1])\n",
    "# get fpr, tpr, and tresholds for roc curve\n",
    "rf_fpr, rf_tpr, rf_thresholds = roc_curve(y_test, rf_probs[:, 1])"
   ]
  },
  {
   "cell_type": "code",
   "execution_count": 35,
   "id": "afd7c7d7",
   "metadata": {
    "id": "afd7c7d7",
    "slideshow": {
     "slide_type": "skip"
    }
   },
   "outputs": [],
   "source": [
    "# gradient boost\n",
    "# get predicted probability of test data\n",
    "gb_clf_probs = gb_clf.predict_proba(X_test)\n",
    "# extract the positive columns for each output\n",
    "gb_auc = roc_auc_score(y_test, gb_clf_probs[:, 1])\n",
    "# get fpr, tpr, and tresholds for roc curve\n",
    "gb_fpr, gb_tpr, gb_thresholds = roc_curve(y_test, gb_clf_probs[:, 1])"
   ]
  },
  {
   "cell_type": "code",
   "execution_count": 36,
   "id": "116a6762",
   "metadata": {
    "id": "116a6762",
    "slideshow": {
     "slide_type": "skip"
    }
   },
   "outputs": [],
   "source": [
    "# Ada boost\n",
    "# get predicted probability of test data\n",
    "ab_clf_probs = ab_clf.predict_proba(X_test)\n",
    "# extract the positive columns for each output\n",
    "ab_auc = roc_auc_score(y_test, ab_clf_probs[:, 1])\n",
    "# get fpr, tpr, and tresholds for roc curve\n",
    "ab_fpr, ab_tpr, ab_thresholds = roc_curve(y_test, ab_clf_probs[:, 1])"
   ]
  },
  {
   "cell_type": "code",
   "execution_count": 37,
   "id": "d3efe607",
   "metadata": {
    "id": "188f4513",
    "outputId": "002f066f-9fdf-4089-be36-e77d17f02b24",
    "slideshow": {
     "slide_type": "subslide"
    }
   },
   "outputs": [
    {
     "data": {
      "image/png": "[encoded data removed]",
      "text/plain": [
       "<Figure size 720x504 with 1 Axes>"
      ]
     },
     "metadata": {},
     "output_type": "display_data"
    }
   ],
   "source": [
    "# plot ROC Curve and AUC for all six models\n",
    "plt.figure(figsize=[10,7])\n",
    "\n",
    "plt.plot(nb_fpr,nb_tpr,label=f'Naive Bayes\\nAUC = {round(nb_auc,3)}')\n",
    "plt.plot(knn_fpr,knn_tpr,label=f'kNN\\nAUC = {round(knn_auc,3)}')\n",
    "plt.plot(logit_fpr,logit_tpr,label=f'Logistic Regression\\nAUC = {round(logit_auc,3)}')\n",
    "plt.plot(gb_fpr, gb_tpr,label=f'Gradient Boost\\nAUC = {round(gb_auc,3)}')\n",
    "plt.plot(ab_fpr, ab_tpr,label=f'Ada Boost\\nAUC = {round(ab_auc,3)}')\n",
    "plt.plot(rf_fpr, rf_tpr,label=f'Random Forest\\nAUC = {round(rf_auc,3)}')\n",
    "\n",
    "\n",
    "plt.xlabel('FPR')\n",
    "plt.ylabel('TPR')\n",
    "plt.title('ROC')\n",
    "plt.legend()\n",
    "plt.show()"
   ]
  },
  {
   "cell_type": "markdown",
   "id": "16f2b145",
   "metadata": {
    "id": "16f2b145",
    "slideshow": {
     "slide_type": "slide"
    }
   },
   "source": [
    "### 2.1 Evaluation of ROC Curve / AUC\n",
    "- **ROC: Receiver Operating Characteristics**\n",
    "    - Measure of a classifier’s predictive quality that compares and visualizes the tradeoff between the model’s sensitivity and specificity. Can simultaneously display the two types of errors (**false positive rate** & **true positive rate**) for all possible thresholds.\n",
    "    - **The true positive rate (TPR) is the sensitivity**: the fraction of recidivised cases within three years that are correctly identified, using a given threshold value. \n",
    "    - **The false positive rate (FPR) is 1-specificity**: the fraction of non-recidivised cases that we classify incorrectly as recidivised cases, using that same threshold value.\n",
    "    - The threshold value decreases along the curve from lower left to upper right. \n",
    "        - When threshold decreases, TPR and FPR increase. \n",
    "        - When threshold increases, TPR and FPR decrease. \n",
    "        \n",
    "    \n",
    "- **AUC: Area Under The Curve**\n",
    "    - Measure the area under the ROC curve\n",
    "    - Computation of the relationship between false positives and true positives.\n",
    "    - Ranges from 0 to 1\n",
    "    - The worst case would be a random classifier with AUC = 0.5 (diagonal)\n",
    "    - \"As a rule of thumb, an AUC above 0.85 means high classification accuracy, one between 0.75 and 0.85 moderate accuracy, and one less than 0.75 low accuracy\" (D' Agostino, Rodgers, & Mauck, 2018)\n",
    " \n",
    "\n",
    "- **Ideal Case**\n",
    "    - An ideal ROC curve will stay closer to the top left corner, so the larger area under the curve (AUC), the better the classifier. \n",
    "    \n",
    "    \n",
    "- **Model Evaluation**\n",
    "    - Among the 6 classification models, the Gradient Boosting model yields the highest AUC of 0.801, which is considered to have moderate accuracy, so we pick it as the best model.\n"
   ]
  },
  {
   "cell_type": "markdown",
   "id": "b68d68d6",
   "metadata": {
    "id": "b68d68d6",
    "slideshow": {
     "slide_type": "slide"
    }
   },
   "source": [
    "## 3. Best Model Performance"
   ]
  },
  {
   "cell_type": "code",
   "execution_count": 38,
   "id": "ecf9b853",
   "metadata": {
    "id": "ecf9b853",
    "outputId": "e6baa314-f7d0-46f9-e52c-f06f12e97a36",
    "slideshow": {
     "slide_type": "skip"
    }
   },
   "outputs": [
    {
     "data": {
      "text/plain": [
       "<sklearn.metrics._plot.confusion_matrix.ConfusionMatrixDisplay at 0x1e371520730>"
      ]
     },
     "execution_count": 38,
     "metadata": {},
     "output_type": "execute_result"
    },
    {
     "data": {
      "image/png": "[encoded data removed]",
      "text/plain": [
       "<Figure size 432x288 with 2 Axes>"
      ]
     },
     "metadata": {},
     "output_type": "display_data"
    }
   ],
   "source": [
    "# Get confusion matrix of gradient boosting\n",
    "display_cm_gb.plot()   "
   ]
  },
  {
   "cell_type": "code",
   "execution_count": 39,
   "id": "eebccf3b",
   "metadata": {
    "id": "eebccf3b",
    "outputId": "4045f8d4-449b-4d36-a557-9a551d934d4f",
    "slideshow": {
     "slide_type": "fragment"
    }
   },
   "outputs": [
    {
     "name": "stdout",
     "output_type": "stream",
     "text": [
      "              precision    recall  f1-score   support\n",
      "\n",
      "         0.0      0.733     0.581     0.648      1941\n",
      "         1.0      0.737     0.847     0.788      2692\n",
      "\n",
      "    accuracy                          0.736      4633\n",
      "   macro avg      0.735     0.714     0.718      4633\n",
      "weighted avg      0.735     0.736     0.729      4633\n",
      "\n"
     ]
    }
   ],
   "source": [
    "# print classification report\n",
    "print(classification_report(y_test, gb_pred, digits=3))"
   ]
  },
  {
   "cell_type": "markdown",
   "id": "a7a6c935",
   "metadata": {
    "id": "a7a6c935",
    "slideshow": {
     "slide_type": "slide"
    }
   },
   "source": [
    "### 3.1 Interpretation of Classification Results from the Best Model\n",
    "- Since our goal is to use personal information, criminal and supervision history to predict the probability a person will commit new felony/misdemeanor crime within 3 years of parole supervision start date（from the perspective of public safety), we would focus more on **recall related to true positive rate** $Recall = \\frac{TP}{TP+FN}$\n",
    "\n",
    "\n",
    "- In this case, FN is more costly than FP\n",
    "    - FN: recidivists not classified as recidivists\n",
    "    - FP: non-recidivists classified as recidivists\n",
    "    - **FN cases would be a potential threat to public safety if not well addressed. Therefore, we want to increase TP and lower FN**\n",
    "\n",
    "\n",
    "- Our best model has an accuracy of 73.6% and a recall rate of 84.7%\n",
    "    - $Accuracy = \\frac{TP+TN}{N}$\n",
    "        - The proportion correctly classified recidivists and non-recidivists by our model on the test data is 73.6%\n",
    "    - $Recall = \\frac{TP}{TP+FN}$ \n",
    "        - Among all recidivists, the proportion of correctly classified recidivists by our model on the test data is 84.7%\n",
    "\n",
    "    \n",
    "We don't discuss precision here because our main discussion is public safety. We would focus more on precision related to the false positive rate if our goal is to prevent wrongful convictions (future discussion).\n",
    "\n"
   ]
  },
  {
   "cell_type": "markdown",
   "id": "f6299d3d",
   "metadata": {
    "id": "f6299d3d",
    "slideshow": {
     "slide_type": "slide"
    }
   },
   "source": [
    "## 4. Feature Importance "
   ]
  },
  {
   "cell_type": "code",
   "execution_count": 40,
   "id": "617b061e",
   "metadata": {
    "id": "617b061e",
    "outputId": "d3b86d39-56cc-4866-f84c-e9ca06ae251e",
    "slideshow": {
     "slide_type": "subslide"
    }
   },
   "outputs": [
    {
     "data": {
      "image/png": "[encoded data removed]",
      "text/plain": [
       "<Figure size 1080x576 with 1 Axes>"
      ]
     },
     "metadata": {},
     "output_type": "display_data"
    }
   ],
   "source": [
    "# plot feature importance plot\n",
    "feature_df = pd.concat([pd.Series(X_train.columns), pd.DataFrame(gb_clf.feature_importances_)], axis=1)\n",
    "feature_df.columns = ['Feature', 'Mean Decrease in Impurity']\n",
    "feature_df.sort_values(by = ['Mean Decrease in Impurity'], inplace=True)\n",
    "plt.figure(figsize=(15, 8))\n",
    "plt.xticks(rotation=90)\n",
    "sns.barplot(x= 'Feature', y= 'Mean Decrease in Impurity', data=feature_df)\n",
    "plt.show()"
   ]
  },
  {
   "cell_type": "markdown",
   "id": "efa914b2",
   "metadata": {
    "id": "efa914b2",
    "slideshow": {
     "slide_type": "slide"
    }
   },
   "source": [
    "## Answer to Q1\n",
    "\n",
    "To predict a potential recidivism case and determine the main features associated with recidivism, we explored 6 different classification models. Among them, we chose the Gradient Boosting model as our best model as it yielded the highest AUC of 0.801.  \n",
    "\n",
    "According to our best model, the following TOP 7 important features were associated with recidivism:  \n",
    "- Percent days employeed \n",
    "- Jobs per year\n",
    "- Prior arrest episodes PPViolationCharges\n",
    "- Age at released \n",
    "- Gang affiliated \n",
    "- Supervision risk score first\n",
    "- Prior arrest episodes felony \n"
   ]
  },
  {
   "cell_type": "markdown",
   "id": "9d3259b2",
   "metadata": {
    "id": "9d3259b2",
    "slideshow": {
     "slide_type": "skip"
    }
   },
   "source": [
    "# References\n",
    "- ISLR - Chapter 4: Classification Methods\n",
    "- ISLR - Chapter 8: Tree-Based Methods\n",
    "- In-class Classification Exercise\n",
    "- Homework 2\n",
    "- Homework 3\n",
    "- [Definition of ROC & AUC](https://www.scikit-yb.org/en/latest/api/classifier/rocauc.html)\n",
    "- [Evaluating AUC](https://www.tc.columbia.edu/elda/blog/content/receiver-operating-characteristic-roc-area-under-the-curve-auc/)"
   ]
  }
 ],
 "metadata": {
  "celltoolbar": "Slideshow",
  "colab": {
   "collapsed_sections": [],
   "name": "Classification_Recidivism_Within_3Years.ipynb",
   "provenance": []
  },
  "kernelspec": {
   "display_name": "Python 3",
   "language": "python",
   "name": "python3"
  },
  "language_info": {
   "codemirror_mode": {
    "name": "ipython",
    "version": 3
   },
   "file_extension": ".py",
   "mimetype": "text/x-python",
   "name": "python",
   "nbconvert_exporter": "python",
   "pygments_lexer": "ipython3",
   "version": "3.8.8"
  },
  "toc": {
   "base_numbering": 1,
   "nav_menu": {},
   "number_sections": false,
   "sideBar": true,
   "skip_h1_title": false,
   "title_cell": "Table of Contents",
   "title_sidebar": "Contents",
   "toc_cell": false,
   "toc_position": {},
   "toc_section_display": true,
   "toc_window_display": false
  }
 },
 "nbformat": 4,
 "nbformat_minor": 5
}
